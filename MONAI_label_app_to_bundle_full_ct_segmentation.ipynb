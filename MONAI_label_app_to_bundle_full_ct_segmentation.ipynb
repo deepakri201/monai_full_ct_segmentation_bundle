{
  "nbformat": 4,
  "nbformat_minor": 0,
  "metadata": {
    "colab": {
      "provenance": [],
      "collapsed_sections": [
        "U0MYXhe-tdXm",
        "MQhvG7Zy5mmA",
        "Qs8dipPqCJWC",
        "u4DJOq2rupck",
        "lzfJSYMjpWP5",
        "iR-MrdByu6wA",
        "jrpyo3sjvLs1"
      ],
      "machine_shape": "hm",
      "authorship_tag": "ABX9TyP5ATZdfgCBczGIdwV3IKqK",
      "include_colab_link": true
    },
    "kernelspec": {
      "name": "python3",
      "display_name": "Python 3"
    },
    "language_info": {
      "name": "python"
    },
    "accelerator": "GPU",
    "gpuClass": "standard"
  },
  "cells": [
    {
      "cell_type": "markdown",
      "metadata": {
        "id": "view-in-github",
        "colab_type": "text"
      },
      "source": [
        "<a href=\"https://colab.research.google.com/github/deepakri201/monai_full_ct_segmentation_bundle/blob/main/MONAI_label_app_to_bundle_full_ct_segmentation.ipynb\" target=\"_parent\"><img src=\"https://colab.research.google.com/assets/colab-badge.svg\" alt=\"Open In Colab\"/></a>"
      ]
    },
    {
      "cell_type": "markdown",
      "source": [
        "This script converts a MONAI label app for full CT segmentation to a bundle. \n",
        "\n",
        "Deepa Krishnaswamy\n",
        "Brigham and Women's Hospital \n",
        "Jan 2023"
      ],
      "metadata": {
        "id": "z0wPEnaruRaV"
      }
    },
    {
      "cell_type": "markdown",
      "source": [
        "# Install and then restart runtime"
      ],
      "metadata": {
        "id": "U0MYXhe-tdXm"
      }
    },
    {
      "cell_type": "code",
      "source": [
        "# !pip install monailabel -U\n",
        "!pip install monailabel-weekly\n"
      ],
      "metadata": {
        "colab": {
          "base_uri": "https://localhost:8080/",
          "height": 1000
        },
        "id": "9LnllLcbtcj2",
        "outputId": "14723d2e-10c1-4828-c0a8-bd89ed7b6f7d"
      },
      "execution_count": 1,
      "outputs": [
        {
          "output_type": "stream",
          "name": "stdout",
          "text": [
            "Looking in indexes: https://pypi.org/simple, https://us-python.pkg.dev/colab-wheels/public/simple/\n",
            "Collecting monailabel-weekly\n",
            "  Downloading monailabel_weekly-0.5.dev2305-py3-none-any.whl (9.4 MB)\n",
            "\u001b[2K     \u001b[90m━━━━━━━━━━━━━━━━━━━━━━━━━━━━━━━━━━━━━━━━\u001b[0m \u001b[32m9.4/9.4 MB\u001b[0m \u001b[31m30.4 MB/s\u001b[0m eta \u001b[36m0:00:00\u001b[0m\n",
            "\u001b[?25hCollecting monai[fire,gdown,ignite,itk,lmdb,mlflow,nibabel,openslide,pillow,psutil,skimage,tensorboard,torchvision,tqdm]>=1.1.0\n",
            "  Downloading monai-1.1.0-202212191849-py3-none-any.whl (1.2 MB)\n",
            "\u001b[2K     \u001b[90m━━━━━━━━━━━━━━━━━━━━━━━━━━━━━━━━━━━━━━━━\u001b[0m \u001b[32m1.2/1.2 MB\u001b[0m \u001b[31m74.2 MB/s\u001b[0m eta \u001b[36m0:00:00\u001b[0m\n",
            "\u001b[?25hCollecting passlib==1.7.4\n",
            "  Downloading passlib-1.7.4-py2.py3-none-any.whl (525 kB)\n",
            "\u001b[2K     \u001b[90m━━━━━━━━━━━━━━━━━━━━━━━━━━━━━━━━━━━━━━\u001b[0m \u001b[32m525.6/525.6 KB\u001b[0m \u001b[31m50.9 MB/s\u001b[0m eta \u001b[36m0:00:00\u001b[0m\n",
            "\u001b[?25hCollecting expiring-dict==1.1.0\n",
            "  Downloading expiring_dict-1.1.0-py3-none-any.whl (3.6 kB)\n",
            "Requirement already satisfied: pydantic>=1.8.2 in /usr/local/lib/python3.8/dist-packages (from monailabel-weekly) (1.10.4)\n",
            "Requirement already satisfied: PyYAML==6.0 in /usr/local/lib/python3.8/dist-packages (from monailabel-weekly) (6.0)\n",
            "Collecting httpx==0.23.0\n",
            "  Downloading httpx-0.23.0-py3-none-any.whl (84 kB)\n",
            "\u001b[2K     \u001b[90m━━━━━━━━━━━━━━━━━━━━━━━━━━━━━━━━━━━━━━━━\u001b[0m \u001b[32m84.8/84.8 KB\u001b[0m \u001b[31m12.1 MB/s\u001b[0m eta \u001b[36m0:00:00\u001b[0m\n",
            "\u001b[?25hCollecting requests-toolbelt==0.9.1\n",
            "  Downloading requests_toolbelt-0.9.1-py2.py3-none-any.whl (54 kB)\n",
            "\u001b[2K     \u001b[90m━━━━━━━━━━━━━━━━━━━━━━━━━━━━━━━━━━━━━━━━\u001b[0m \u001b[32m54.3/54.3 KB\u001b[0m \u001b[31m8.7 MB/s\u001b[0m eta \u001b[36m0:00:00\u001b[0m\n",
            "\u001b[?25hCollecting bcrypt==3.2.2\n",
            "  Downloading bcrypt-3.2.2-cp36-abi3-manylinux_2_17_x86_64.manylinux2014_x86_64.manylinux_2_24_x86_64.whl (62 kB)\n",
            "\u001b[2K     \u001b[90m━━━━━━━━━━━━━━━━━━━━━━━━━━━━━━━━━━━━━━━━\u001b[0m \u001b[32m62.3/62.3 KB\u001b[0m \u001b[31m3.0 MB/s\u001b[0m eta \u001b[36m0:00:00\u001b[0m\n",
            "\u001b[?25hCollecting pydicom==2.3.0\n",
            "  Downloading pydicom-2.3.0-py3-none-any.whl (2.0 MB)\n",
            "\u001b[2K     \u001b[90m━━━━━━━━━━━━━━━━━━━━━━━━━━━━━━━━━━━━━━━━\u001b[0m \u001b[32m2.0/2.0 MB\u001b[0m \u001b[31m91.9 MB/s\u001b[0m eta \u001b[36m0:00:00\u001b[0m\n",
            "\u001b[?25hCollecting schedule==1.1.0\n",
            "  Downloading schedule-1.1.0-py2.py3-none-any.whl (10 kB)\n",
            "Collecting ninja==1.10.2.3\n",
            "  Downloading ninja-1.10.2.3-py2.py3-none-manylinux_2_5_x86_64.manylinux1_x86_64.whl (108 kB)\n",
            "\u001b[2K     \u001b[90m━━━━━━━━━━━━━━━━━━━━━━━━━━━━━━━━━━━━━━\u001b[0m \u001b[32m108.1/108.1 KB\u001b[0m \u001b[31m17.2 MB/s\u001b[0m eta \u001b[36m0:00:00\u001b[0m\n",
            "\u001b[?25hCollecting cachetools==5.2.0\n",
            "  Downloading cachetools-5.2.0-py3-none-any.whl (9.3 kB)\n",
            "Collecting shapely==1.8.2\n",
            "  Downloading Shapely-1.8.2-cp38-cp38-manylinux_2_12_x86_64.manylinux2010_x86_64.whl (2.1 MB)\n",
            "\u001b[2K     \u001b[90m━━━━━━━━━━━━━━━━━━━━━━━━━━━━━━━━━━━━━━━━\u001b[0m \u001b[32m2.1/2.1 MB\u001b[0m \u001b[31m94.5 MB/s\u001b[0m eta \u001b[36m0:00:00\u001b[0m\n",
            "\u001b[?25hRequirement already satisfied: scipy in /usr/local/lib/python3.8/dist-packages (from monailabel-weekly) (1.7.3)\n",
            "Collecting uvicorn==0.17.6\n",
            "  Downloading uvicorn-0.17.6-py3-none-any.whl (53 kB)\n",
            "\u001b[2K     \u001b[90m━━━━━━━━━━━━━━━━━━━━━━━━━━━━━━━━━━━━━━━━\u001b[0m \u001b[32m53.6/53.6 KB\u001b[0m \u001b[31m8.1 MB/s\u001b[0m eta \u001b[36m0:00:00\u001b[0m\n",
            "\u001b[?25hCollecting watchdog==2.1.8\n",
            "  Downloading watchdog-2.1.8-py3-none-manylinux2014_x86_64.whl (77 kB)\n",
            "\u001b[2K     \u001b[90m━━━━━━━━━━━━━━━━━━━━━━━━━━━━━━━━━━━━━━━━\u001b[0m \u001b[32m77.5/77.5 KB\u001b[0m \u001b[31m11.7 MB/s\u001b[0m eta \u001b[36m0:00:00\u001b[0m\n",
            "\u001b[?25hCollecting python-jose[cryptography]==3.3.0\n",
            "  Downloading python_jose-3.3.0-py2.py3-none-any.whl (33 kB)\n",
            "Collecting expiringdict==1.2.1\n",
            "  Downloading expiringdict-1.2.1.tar.gz (8.1 kB)\n",
            "  Preparing metadata (setup.py) ... \u001b[?25l\u001b[?25hdone\n",
            "Collecting dicomweb-client==0.56.2\n",
            "  Downloading dicomweb_client-0.56.2-py3-none-any.whl (57 kB)\n",
            "\u001b[2K     \u001b[90m━━━━━━━━━━━━━━━━━━━━━━━━━━━━━━━━━━━━━━━━\u001b[0m \u001b[32m57.2/57.2 KB\u001b[0m \u001b[31m8.8 MB/s\u001b[0m eta \u001b[36m0:00:00\u001b[0m\n",
            "\u001b[?25hCollecting girder-client==3.1.14\n",
            "  Downloading girder-client-3.1.14.tar.gz (20 kB)\n",
            "  Preparing metadata (setup.py) ... \u001b[?25l\u001b[?25hdone\n",
            "Collecting pynetdicom==2.0.2\n",
            "  Downloading pynetdicom-2.0.2-py3-none-any.whl (1.6 MB)\n",
            "\u001b[2K     \u001b[90m━━━━━━━━━━━━━━━━━━━━━━━━━━━━━━━━━━━━━━━━\u001b[0m \u001b[32m1.6/1.6 MB\u001b[0m \u001b[31m33.0 MB/s\u001b[0m eta \u001b[36m0:00:00\u001b[0m\n",
            "\u001b[?25hCollecting requests==2.28.1\n",
            "  Downloading requests-2.28.1-py3-none-any.whl (62 kB)\n",
            "\u001b[2K     \u001b[90m━━━━━━━━━━━━━━━━━━━━━━━━━━━━━━━━━━━━━━━━\u001b[0m \u001b[32m62.8/62.8 KB\u001b[0m \u001b[31m9.4 MB/s\u001b[0m eta \u001b[36m0:00:00\u001b[0m\n",
            "\u001b[?25hRequirement already satisfied: scikit-learn in /usr/local/lib/python3.8/dist-packages (from monailabel-weekly) (1.0.2)\n",
            "Collecting filelock==3.7.1\n",
            "  Downloading filelock-3.7.1-py3-none-any.whl (10 kB)\n",
            "Collecting numpymaxflow==0.0.5\n",
            "  Downloading numpymaxflow-0.0.5-cp38-cp38-manylinux_2_17_x86_64.manylinux2014_x86_64.whl (51 kB)\n",
            "\u001b[2K     \u001b[90m━━━━━━━━━━━━━━━━━━━━━━━━━━━━━━━━━━━━━━━━\u001b[0m \u001b[32m51.7/51.7 KB\u001b[0m \u001b[31m7.5 MB/s\u001b[0m eta \u001b[36m0:00:00\u001b[0m\n",
            "\u001b[?25hCollecting pynrrd==0.4.3\n",
            "  Downloading pynrrd-0.4.3-py2.py3-none-any.whl (18 kB)\n",
            "Collecting fastapi==0.78.0\n",
            "  Downloading fastapi-0.78.0-py3-none-any.whl (54 kB)\n",
            "\u001b[2K     \u001b[90m━━━━━━━━━━━━━━━━━━━━━━━━━━━━━━━━━━━━━━━━\u001b[0m \u001b[32m54.6/54.6 KB\u001b[0m \u001b[31m8.5 MB/s\u001b[0m eta \u001b[36m0:00:00\u001b[0m\n",
            "\u001b[?25hCollecting einops>=0.3.2\n",
            "  Downloading einops-0.6.0-py3-none-any.whl (41 kB)\n",
            "\u001b[2K     \u001b[90m━━━━━━━━━━━━━━━━━━━━━━━━━━━━━━━━━━━━━━━━\u001b[0m \u001b[32m41.6/41.6 KB\u001b[0m \u001b[31m6.0 MB/s\u001b[0m eta \u001b[36m0:00:00\u001b[0m\n",
            "\u001b[?25hCollecting timeloop==1.0.2\n",
            "  Downloading timeloop-1.0.2.tar.gz (2.9 kB)\n",
            "  Preparing metadata (setup.py) ... \u001b[?25l\u001b[?25hdone\n",
            "Collecting opencv-python-headless==4.5.5.64\n",
            "  Downloading opencv_python_headless-4.5.5.64-cp36-abi3-manylinux_2_17_x86_64.manylinux2014_x86_64.whl (47.8 MB)\n",
            "\u001b[2K     \u001b[90m━━━━━━━━━━━━━━━━━━━━━━━━━━━━━━━━━━━━━━━━\u001b[0m \u001b[32m47.8/47.8 MB\u001b[0m \u001b[31m30.7 MB/s\u001b[0m eta \u001b[36m0:00:00\u001b[0m\n",
            "\u001b[?25hCollecting python-multipart==0.0.5\n",
            "  Downloading python-multipart-0.0.5.tar.gz (32 kB)\n",
            "  Preparing metadata (setup.py) ... \u001b[?25l\u001b[?25hdone\n",
            "Collecting python-dotenv==0.20.0\n",
            "  Downloading python_dotenv-0.20.0-py3-none-any.whl (17 kB)\n",
            "Collecting pydicom-seg==0.4.0\n",
            "  Downloading pydicom_seg-0.4.0-py3-none-any.whl (25 kB)\n",
            "Requirement already satisfied: torch>=1.7 in /usr/local/lib/python3.8/dist-packages (from monailabel-weekly) (1.13.1+cu116)\n",
            "Requirement already satisfied: cffi>=1.1 in /usr/local/lib/python3.8/dist-packages (from bcrypt==3.2.2->monailabel-weekly) (1.15.1)\n",
            "Collecting retrying>=1.3.3\n",
            "  Downloading retrying-1.3.4-py3-none-any.whl (11 kB)\n",
            "Requirement already satisfied: numpy>=1.19 in /usr/local/lib/python3.8/dist-packages (from dicomweb-client==0.56.2->monailabel-weekly) (1.21.6)\n",
            "Collecting Pillow>=8.3\n",
            "  Downloading Pillow-9.4.0-cp38-cp38-manylinux_2_28_x86_64.whl (3.4 MB)\n",
            "\u001b[2K     \u001b[90m━━━━━━━━━━━━━━━━━━━━━━━━━━━━━━━━━━━━━━━━\u001b[0m \u001b[32m3.4/3.4 MB\u001b[0m \u001b[31m66.0 MB/s\u001b[0m eta \u001b[36m0:00:00\u001b[0m\n",
            "\u001b[?25hRequirement already satisfied: sortedcontainers in /usr/local/lib/python3.8/dist-packages (from expiring-dict==1.1.0->monailabel-weekly) (2.4.0)\n",
            "Collecting starlette==0.19.1\n",
            "  Downloading starlette-0.19.1-py3-none-any.whl (63 kB)\n",
            "\u001b[2K     \u001b[90m━━━━━━━━━━━━━━━━━━━━━━━━━━━━━━━━━━━━━━━━\u001b[0m \u001b[32m63.3/63.3 KB\u001b[0m \u001b[31m8.3 MB/s\u001b[0m eta \u001b[36m0:00:00\u001b[0m\n",
            "\u001b[?25hRequirement already satisfied: click>=6.7 in /usr/local/lib/python3.8/dist-packages (from girder-client==3.1.14->monailabel-weekly) (7.1.2)\n",
            "Collecting diskcache\n",
            "  Downloading diskcache-5.4.0-py3-none-any.whl (44 kB)\n",
            "\u001b[2K     \u001b[90m━━━━━━━━━━━━━━━━━━━━━━━━━━━━━━━━━━━━━━━━\u001b[0m \u001b[32m45.0/45.0 KB\u001b[0m \u001b[31m6.8 MB/s\u001b[0m eta \u001b[36m0:00:00\u001b[0m\n",
            "\u001b[?25hCollecting httpcore<0.16.0,>=0.15.0\n",
            "  Downloading httpcore-0.15.0-py3-none-any.whl (68 kB)\n",
            "\u001b[2K     \u001b[90m━━━━━━━━━━━━━━━━━━━━━━━━━━━━━━━━━━━━━━━━\u001b[0m \u001b[32m68.4/68.4 KB\u001b[0m \u001b[31m9.8 MB/s\u001b[0m eta \u001b[36m0:00:00\u001b[0m\n",
            "\u001b[?25hRequirement already satisfied: certifi in /usr/local/lib/python3.8/dist-packages (from httpx==0.23.0->monailabel-weekly) (2022.12.7)\n",
            "Collecting rfc3986[idna2008]<2,>=1.3\n",
            "  Downloading rfc3986-1.5.0-py2.py3-none-any.whl (31 kB)\n",
            "Collecting sniffio\n",
            "  Downloading sniffio-1.3.0-py3-none-any.whl (10 kB)\n",
            "Collecting jsonschema<4.0.0,>=3.2.0\n",
            "  Downloading jsonschema-3.2.0-py2.py3-none-any.whl (56 kB)\n",
            "\u001b[2K     \u001b[90m━━━━━━━━━━━━━━━━━━━━━━━━━━━━━━━━━━━━━━━━\u001b[0m \u001b[32m56.3/56.3 KB\u001b[0m \u001b[31m6.8 MB/s\u001b[0m eta \u001b[36m0:00:00\u001b[0m\n",
            "\u001b[?25hCollecting SimpleITK>1.2.4\n",
            "  Downloading SimpleITK-2.2.1-cp38-cp38-manylinux_2_17_x86_64.manylinux2014_x86_64.whl (52.7 MB)\n",
            "\u001b[2K     \u001b[90m━━━━━━━━━━━━━━━━━━━━━━━━━━━━━━━━━━━━━━━━\u001b[0m \u001b[32m52.7/52.7 MB\u001b[0m \u001b[31m26.9 MB/s\u001b[0m eta \u001b[36m0:00:00\u001b[0m\n",
            "\u001b[?25hRequirement already satisfied: pyasn1 in /usr/local/lib/python3.8/dist-packages (from python-jose[cryptography]==3.3.0->monailabel-weekly) (0.4.8)\n",
            "Collecting ecdsa!=0.15\n",
            "  Downloading ecdsa-0.18.0-py2.py3-none-any.whl (142 kB)\n",
            "\u001b[2K     \u001b[90m━━━━━━━━━━━━━━━━━━━━━━━━━━━━━━━━━━━━━━\u001b[0m \u001b[32m142.9/142.9 KB\u001b[0m \u001b[31m19.5 MB/s\u001b[0m eta \u001b[36m0:00:00\u001b[0m\n",
            "\u001b[?25hRequirement already satisfied: rsa in /usr/local/lib/python3.8/dist-packages (from python-jose[cryptography]==3.3.0->monailabel-weekly) (4.9)\n",
            "Collecting cryptography>=3.4.0\n",
            "  Downloading cryptography-39.0.0-cp36-abi3-manylinux_2_28_x86_64.whl (4.2 MB)\n",
            "\u001b[2K     \u001b[90m━━━━━━━━━━━━━━━━━━━━━━━━━━━━━━━━━━━━━━━━\u001b[0m \u001b[32m4.2/4.2 MB\u001b[0m \u001b[31m111.3 MB/s\u001b[0m eta \u001b[36m0:00:00\u001b[0m\n",
            "\u001b[?25hRequirement already satisfied: six>=1.4.0 in /usr/local/lib/python3.8/dist-packages (from python-multipart==0.0.5->monailabel-weekly) (1.15.0)\n",
            "Requirement already satisfied: idna<4,>=2.5 in /usr/local/lib/python3.8/dist-packages (from requests==2.28.1->monailabel-weekly) (2.10)\n",
            "Requirement already satisfied: charset-normalizer<3,>=2 in /usr/local/lib/python3.8/dist-packages (from requests==2.28.1->monailabel-weekly) (2.1.1)\n",
            "Requirement already satisfied: urllib3<1.27,>=1.21.1 in /usr/local/lib/python3.8/dist-packages (from requests==2.28.1->monailabel-weekly) (1.24.3)\n",
            "Collecting asgiref>=3.4.0\n",
            "  Downloading asgiref-3.6.0-py3-none-any.whl (23 kB)\n",
            "Collecting h11>=0.8\n",
            "  Downloading h11-0.14.0-py3-none-any.whl (58 kB)\n",
            "\u001b[2K     \u001b[90m━━━━━━━━━━━━━━━━━━━━━━━━━━━━━━━━━━━━━━━\u001b[0m \u001b[32m58.3/58.3 KB\u001b[0m \u001b[31m101.7 kB/s\u001b[0m eta \u001b[36m0:00:00\u001b[0m\n",
            "\u001b[?25hRequirement already satisfied: typing-extensions>=3.10.0 in /usr/local/lib/python3.8/dist-packages (from starlette==0.19.1->fastapi==0.78.0->monailabel-weekly) (4.4.0)\n",
            "Collecting anyio<5,>=3.4.0\n",
            "  Downloading anyio-3.6.2-py3-none-any.whl (80 kB)\n",
            "\u001b[2K     \u001b[90m━━━━━━━━━━━━━━━━━━━━━━━━━━━━━━━━━━━━━━━━\u001b[0m \u001b[32m80.6/80.6 KB\u001b[0m \u001b[31m11.0 MB/s\u001b[0m eta \u001b[36m0:00:00\u001b[0m\n",
            "\u001b[?25hRequirement already satisfied: lmdb in /usr/local/lib/python3.8/dist-packages (from monai[fire,gdown,ignite,itk,lmdb,mlflow,nibabel,openslide,pillow,psutil,skimage,tensorboard,torchvision,tqdm]>=1.1.0->monailabel-weekly) (0.99)\n",
            "Collecting openslide-python==1.1.2\n",
            "  Downloading openslide-python-1.1.2.tar.gz (316 kB)\n",
            "\u001b[2K     \u001b[90m━━━━━━━━━━━━━━━━━━━━━━━━━━━━━━━━━━━━━━\u001b[0m \u001b[32m316.6/316.6 KB\u001b[0m \u001b[31m32.5 MB/s\u001b[0m eta \u001b[36m0:00:00\u001b[0m\n",
            "\u001b[?25h  Preparing metadata (setup.py) ... \u001b[?25l\u001b[?25hdone\n",
            "Requirement already satisfied: gdown>=4.4.0 in /usr/local/lib/python3.8/dist-packages (from monai[fire,gdown,ignite,itk,lmdb,mlflow,nibabel,openslide,pillow,psutil,skimage,tensorboard,torchvision,tqdm]>=1.1.0->monailabel-weekly) (4.4.0)\n",
            "Requirement already satisfied: tensorboard in /usr/local/lib/python3.8/dist-packages (from monai[fire,gdown,ignite,itk,lmdb,mlflow,nibabel,openslide,pillow,psutil,skimage,tensorboard,torchvision,tqdm]>=1.1.0->monailabel-weekly) (2.9.1)\n",
            "Collecting fire\n",
            "  Downloading fire-0.5.0.tar.gz (88 kB)\n",
            "\u001b[2K     \u001b[90m━━━━━━━━━━━━━━━━━━━━━━━━━━━━━━━━━━━━━━━━\u001b[0m \u001b[32m88.3/88.3 KB\u001b[0m \u001b[31m13.6 MB/s\u001b[0m eta \u001b[36m0:00:00\u001b[0m\n",
            "\u001b[?25h  Preparing metadata (setup.py) ... \u001b[?25l\u001b[?25hdone\n",
            "Requirement already satisfied: psutil in /usr/local/lib/python3.8/dist-packages (from monai[fire,gdown,ignite,itk,lmdb,mlflow,nibabel,openslide,pillow,psutil,skimage,tensorboard,torchvision,tqdm]>=1.1.0->monailabel-weekly) (5.4.8)\n",
            "Requirement already satisfied: nibabel in /usr/local/lib/python3.8/dist-packages (from monai[fire,gdown,ignite,itk,lmdb,mlflow,nibabel,openslide,pillow,psutil,skimage,tensorboard,torchvision,tqdm]>=1.1.0->monailabel-weekly) (3.0.2)\n",
            "Requirement already satisfied: scikit-image>=0.14.2 in /usr/local/lib/python3.8/dist-packages (from monai[fire,gdown,ignite,itk,lmdb,mlflow,nibabel,openslide,pillow,psutil,skimage,tensorboard,torchvision,tqdm]>=1.1.0->monailabel-weekly) (0.18.3)\n",
            "Requirement already satisfied: torchvision in /usr/local/lib/python3.8/dist-packages (from monai[fire,gdown,ignite,itk,lmdb,mlflow,nibabel,openslide,pillow,psutil,skimage,tensorboard,torchvision,tqdm]>=1.1.0->monailabel-weekly) (0.14.1+cu116)\n",
            "Requirement already satisfied: tqdm>=4.47.0 in /usr/local/lib/python3.8/dist-packages (from monai[fire,gdown,ignite,itk,lmdb,mlflow,nibabel,openslide,pillow,psutil,skimage,tensorboard,torchvision,tqdm]>=1.1.0->monailabel-weekly) (4.64.1)\n",
            "Collecting itk>=5.2\n",
            "  Downloading itk-5.3.0-cp38-cp38-manylinux_2_28_x86_64.whl (8.3 kB)\n",
            "Collecting mlflow\n",
            "  Downloading mlflow-2.1.1-py3-none-any.whl (16.7 MB)\n",
            "\u001b[2K     \u001b[90m━━━━━━━━━━━━━━━━━━━━━━━━━━━━━━━━━━━━━━━━\u001b[0m \u001b[32m16.7/16.7 MB\u001b[0m \u001b[31m89.2 MB/s\u001b[0m eta \u001b[36m0:00:00\u001b[0m\n",
            "\u001b[?25hCollecting pytorch-ignite==0.4.10\n",
            "  Downloading pytorch_ignite-0.4.10-py3-none-any.whl (264 kB)\n",
            "\u001b[2K     \u001b[90m━━━━━━━━━━━━━━━━━━━━━━━━━━━━━━━━━━━━━━\u001b[0m \u001b[32m264.1/264.1 KB\u001b[0m \u001b[31m32.6 MB/s\u001b[0m eta \u001b[36m0:00:00\u001b[0m\n",
            "\u001b[?25hRequirement already satisfied: packaging in /usr/local/lib/python3.8/dist-packages (from pytorch-ignite==0.4.10->monai[fire,gdown,ignite,itk,lmdb,mlflow,nibabel,openslide,pillow,psutil,skimage,tensorboard,torchvision,tqdm]>=1.1.0->monailabel-weekly) (21.3)\n",
            "Requirement already satisfied: joblib>=0.11 in /usr/local/lib/python3.8/dist-packages (from scikit-learn->monailabel-weekly) (1.2.0)\n",
            "Requirement already satisfied: threadpoolctl>=2.0.0 in /usr/local/lib/python3.8/dist-packages (from scikit-learn->monailabel-weekly) (3.1.0)\n",
            "Requirement already satisfied: pycparser in /usr/local/lib/python3.8/dist-packages (from cffi>=1.1->bcrypt==3.2.2->monailabel-weekly) (2.21)\n",
            "Requirement already satisfied: beautifulsoup4 in /usr/local/lib/python3.8/dist-packages (from gdown>=4.4.0->monai[fire,gdown,ignite,itk,lmdb,mlflow,nibabel,openslide,pillow,psutil,skimage,tensorboard,torchvision,tqdm]>=1.1.0->monailabel-weekly) (4.6.3)\n",
            "Requirement already satisfied: requests[socks] in /usr/local/lib/python3.8/dist-packages (from gdown>=4.4.0->monai[fire,gdown,ignite,itk,lmdb,mlflow,nibabel,openslide,pillow,psutil,skimage,tensorboard,torchvision,tqdm]>=1.1.0->monailabel-weekly) (2.25.1)\n",
            "Collecting h11>=0.8\n",
            "  Downloading h11-0.12.0-py3-none-any.whl (54 kB)\n",
            "\u001b[2K     \u001b[90m━━━━━━━━━━━━━━━━━━━━━━━━━━━━━━━━━━━━━━━━\u001b[0m \u001b[32m54.9/54.9 KB\u001b[0m \u001b[31m8.6 MB/s\u001b[0m eta \u001b[36m0:00:00\u001b[0m\n",
            "\u001b[?25hCollecting itk-filtering==5.3.0\n",
            "  Downloading itk_filtering-5.3.0-cp38-cp38-manylinux_2_28_x86_64.whl (73.5 MB)\n",
            "\u001b[2K     \u001b[90m━━━━━━━━━━━━━━━━━━━━━━━━━━━━━━━━━━━━━━━━\u001b[0m \u001b[32m73.5/73.5 MB\u001b[0m \u001b[31m19.6 MB/s\u001b[0m eta \u001b[36m0:00:00\u001b[0m\n",
            "\u001b[?25hCollecting itk-io==5.3.0\n",
            "  Downloading itk_io-5.3.0-cp38-cp38-manylinux_2_28_x86_64.whl (25.6 MB)\n",
            "\u001b[2K     \u001b[90m━━━━━━━━━━━━━━━━━━━━━━━━━━━━━━━━━━━━━━━━\u001b[0m \u001b[32m25.6/25.6 MB\u001b[0m \u001b[31m50.2 MB/s\u001b[0m eta \u001b[36m0:00:00\u001b[0m\n",
            "\u001b[?25hCollecting itk-registration==5.3.0\n",
            "  Downloading itk_registration-5.3.0-cp38-cp38-manylinux_2_28_x86_64.whl (26.6 MB)\n",
            "\u001b[2K     \u001b[90m━━━━━━━━━━━━━━━━━━━━━━━━━━━━━━━━━━━━━━━━\u001b[0m \u001b[32m26.6/26.6 MB\u001b[0m \u001b[31m43.4 MB/s\u001b[0m eta \u001b[36m0:00:00\u001b[0m\n",
            "\u001b[?25hCollecting itk-core==5.3.0\n",
            "  Downloading itk_core-5.3.0-cp38-cp38-manylinux_2_28_x86_64.whl (81.2 MB)\n",
            "\u001b[2K     \u001b[90m━━━━━━━━━━━━━━━━━━━━━━━━━━━━━━━━━━━━━━━━\u001b[0m \u001b[32m81.2/81.2 MB\u001b[0m \u001b[31m9.5 MB/s\u001b[0m eta \u001b[36m0:00:00\u001b[0m\n",
            "\u001b[?25hCollecting itk-segmentation==5.3.0\n",
            "  Downloading itk_segmentation-5.3.0-cp38-cp38-manylinux_2_28_x86_64.whl (16.5 MB)\n",
            "\u001b[2K     \u001b[90m━━━━━━━━━━━━━━━━━━━━━━━━━━━━━━━━━━━━━━━━\u001b[0m \u001b[32m16.5/16.5 MB\u001b[0m \u001b[31m86.2 MB/s\u001b[0m eta \u001b[36m0:00:00\u001b[0m\n",
            "\u001b[?25hCollecting itk-numerics==5.3.0\n",
            "  Downloading itk_numerics-5.3.0-cp38-cp38-manylinux_2_28_x86_64.whl (58.8 MB)\n",
            "\u001b[2K     \u001b[90m━━━━━━━━━━━━━━━━━━━━━━━━━━━━━━━━━━━━━━━━\u001b[0m \u001b[32m58.8/58.8 MB\u001b[0m \u001b[31m26.0 MB/s\u001b[0m eta \u001b[36m0:00:00\u001b[0m\n",
            "\u001b[?25hRequirement already satisfied: setuptools in /usr/local/lib/python3.8/dist-packages (from jsonschema<4.0.0,>=3.2.0->pydicom-seg==0.4.0->monailabel-weekly) (57.4.0)\n",
            "Requirement already satisfied: pyrsistent>=0.14.0 in /usr/local/lib/python3.8/dist-packages (from jsonschema<4.0.0,>=3.2.0->pydicom-seg==0.4.0->monailabel-weekly) (0.19.3)\n",
            "Requirement already satisfied: attrs>=17.4.0 in /usr/local/lib/python3.8/dist-packages (from jsonschema<4.0.0,>=3.2.0->pydicom-seg==0.4.0->monailabel-weekly) (22.2.0)\n",
            "Requirement already satisfied: matplotlib!=3.0.0,>=2.0.0 in /usr/local/lib/python3.8/dist-packages (from scikit-image>=0.14.2->monai[fire,gdown,ignite,itk,lmdb,mlflow,nibabel,openslide,pillow,psutil,skimage,tensorboard,torchvision,tqdm]>=1.1.0->monailabel-weekly) (3.2.2)\n",
            "Requirement already satisfied: imageio>=2.3.0 in /usr/local/lib/python3.8/dist-packages (from scikit-image>=0.14.2->monai[fire,gdown,ignite,itk,lmdb,mlflow,nibabel,openslide,pillow,psutil,skimage,tensorboard,torchvision,tqdm]>=1.1.0->monailabel-weekly) (2.9.0)\n",
            "Requirement already satisfied: networkx>=2.0 in /usr/local/lib/python3.8/dist-packages (from scikit-image>=0.14.2->monai[fire,gdown,ignite,itk,lmdb,mlflow,nibabel,openslide,pillow,psutil,skimage,tensorboard,torchvision,tqdm]>=1.1.0->monailabel-weekly) (3.0)\n",
            "Requirement already satisfied: PyWavelets>=1.1.1 in /usr/local/lib/python3.8/dist-packages (from scikit-image>=0.14.2->monai[fire,gdown,ignite,itk,lmdb,mlflow,nibabel,openslide,pillow,psutil,skimage,tensorboard,torchvision,tqdm]>=1.1.0->monailabel-weekly) (1.4.1)\n",
            "Requirement already satisfied: tifffile>=2019.7.26 in /usr/local/lib/python3.8/dist-packages (from scikit-image>=0.14.2->monai[fire,gdown,ignite,itk,lmdb,mlflow,nibabel,openslide,pillow,psutil,skimage,tensorboard,torchvision,tqdm]>=1.1.0->monailabel-weekly) (2022.10.10)\n",
            "Requirement already satisfied: termcolor in /usr/local/lib/python3.8/dist-packages (from fire->monai[fire,gdown,ignite,itk,lmdb,mlflow,nibabel,openslide,pillow,psutil,skimage,tensorboard,torchvision,tqdm]>=1.1.0->monailabel-weekly) (2.2.0)\n",
            "Requirement already satisfied: sqlalchemy<2,>=1.4.0 in /usr/local/lib/python3.8/dist-packages (from mlflow->monai[fire,gdown,ignite,itk,lmdb,mlflow,nibabel,openslide,pillow,psutil,skimage,tensorboard,torchvision,tqdm]>=1.1.0->monailabel-weekly) (1.4.46)\n",
            "Requirement already satisfied: entrypoints<1 in /usr/local/lib/python3.8/dist-packages (from mlflow->monai[fire,gdown,ignite,itk,lmdb,mlflow,nibabel,openslide,pillow,psutil,skimage,tensorboard,torchvision,tqdm]>=1.1.0->monailabel-weekly) (0.4)\n",
            "Collecting gitpython<4,>=2.1.0\n",
            "  Downloading GitPython-3.1.30-py3-none-any.whl (184 kB)\n",
            "\u001b[2K     \u001b[90m━━━━━━━━━━━━━━━━━━━━━━━━━━━━━━━━━━━━━━\u001b[0m \u001b[32m184.0/184.0 KB\u001b[0m \u001b[31m25.3 MB/s\u001b[0m eta \u001b[36m0:00:00\u001b[0m\n",
            "\u001b[?25hRequirement already satisfied: protobuf<5,>=3.12.0 in /usr/local/lib/python3.8/dist-packages (from mlflow->monai[fire,gdown,ignite,itk,lmdb,mlflow,nibabel,openslide,pillow,psutil,skimage,tensorboard,torchvision,tqdm]>=1.1.0->monailabel-weekly) (3.19.6)\n",
            "Collecting importlib-metadata!=4.7.0,<6,>=3.7.0\n",
            "  Downloading importlib_metadata-5.2.0-py3-none-any.whl (21 kB)\n",
            "Requirement already satisfied: pyarrow<11,>=4.0.0 in /usr/local/lib/python3.8/dist-packages (from mlflow->monai[fire,gdown,ignite,itk,lmdb,mlflow,nibabel,openslide,pillow,psutil,skimage,tensorboard,torchvision,tqdm]>=1.1.0->monailabel-weekly) (9.0.0)\n",
            "Collecting docker<7,>=4.0.0\n",
            "  Downloading docker-6.0.1-py3-none-any.whl (147 kB)\n",
            "\u001b[2K     \u001b[90m━━━━━━━━━━━━━━━━━━━━━━━━━━━━━━━━━━━━━━\u001b[0m \u001b[32m147.5/147.5 KB\u001b[0m \u001b[31m20.5 MB/s\u001b[0m eta \u001b[36m0:00:00\u001b[0m\n",
            "\u001b[?25hRequirement already satisfied: cloudpickle<3 in /usr/local/lib/python3.8/dist-packages (from mlflow->monai[fire,gdown,ignite,itk,lmdb,mlflow,nibabel,openslide,pillow,psutil,skimage,tensorboard,torchvision,tqdm]>=1.1.0->monailabel-weekly) (2.2.0)\n",
            "Collecting querystring-parser<2\n",
            "  Downloading querystring_parser-1.2.4-py2.py3-none-any.whl (7.9 kB)\n",
            "Requirement already satisfied: Flask<3 in /usr/local/lib/python3.8/dist-packages (from mlflow->monai[fire,gdown,ignite,itk,lmdb,mlflow,nibabel,openslide,pillow,psutil,skimage,tensorboard,torchvision,tqdm]>=1.1.0->monailabel-weekly) (1.1.4)\n",
            "Collecting alembic<2\n",
            "  Downloading alembic-1.9.2-py3-none-any.whl (210 kB)\n",
            "\u001b[2K     \u001b[90m━━━━━━━━━━━━━━━━━━━━━━━━━━━━━━━━━━━━━━\u001b[0m \u001b[32m210.6/210.6 KB\u001b[0m \u001b[31m28.2 MB/s\u001b[0m eta \u001b[36m0:00:00\u001b[0m\n",
            "\u001b[?25hCollecting databricks-cli<1,>=0.8.7\n",
            "  Downloading databricks-cli-0.17.4.tar.gz (82 kB)\n",
            "\u001b[2K     \u001b[90m━━━━━━━━━━━━━━━━━━━━━━━━━━━━━━━━━━━━━━━━\u001b[0m \u001b[32m82.3/82.3 KB\u001b[0m \u001b[31m11.8 MB/s\u001b[0m eta \u001b[36m0:00:00\u001b[0m\n",
            "\u001b[?25h  Preparing metadata (setup.py) ... \u001b[?25l\u001b[?25hdone\n",
            "Requirement already satisfied: sqlparse<1,>=0.4.0 in /usr/local/lib/python3.8/dist-packages (from mlflow->monai[fire,gdown,ignite,itk,lmdb,mlflow,nibabel,openslide,pillow,psutil,skimage,tensorboard,torchvision,tqdm]>=1.1.0->monailabel-weekly) (0.4.3)\n",
            "Collecting gunicorn<21\n",
            "  Downloading gunicorn-20.1.0-py3-none-any.whl (79 kB)\n",
            "\u001b[2K     \u001b[90m━━━━━━━━━━━━━━━━━━━━━━━━━━━━━━━━━━━━━━━━\u001b[0m \u001b[32m79.5/79.5 KB\u001b[0m \u001b[31m11.8 MB/s\u001b[0m eta \u001b[36m0:00:00\u001b[0m\n",
            "\u001b[?25hCollecting shap<1,>=0.40\n",
            "  Downloading shap-0.41.0-cp38-cp38-manylinux_2_12_x86_64.manylinux2010_x86_64.whl (575 kB)\n",
            "\u001b[2K     \u001b[90m━━━━━━━━━━━━━━━━━━━━━━━━━━━━━━━━━━━━━━\u001b[0m \u001b[32m575.9/575.9 KB\u001b[0m \u001b[31m50.9 MB/s\u001b[0m eta \u001b[36m0:00:00\u001b[0m\n",
            "\u001b[?25hRequirement already satisfied: Jinja2<4,>=2.11 in /usr/local/lib/python3.8/dist-packages (from mlflow->monai[fire,gdown,ignite,itk,lmdb,mlflow,nibabel,openslide,pillow,psutil,skimage,tensorboard,torchvision,tqdm]>=1.1.0->monailabel-weekly) (2.11.3)\n",
            "Requirement already satisfied: pandas<2 in /usr/local/lib/python3.8/dist-packages (from mlflow->monai[fire,gdown,ignite,itk,lmdb,mlflow,nibabel,openslide,pillow,psutil,skimage,tensorboard,torchvision,tqdm]>=1.1.0->monailabel-weekly) (1.3.5)\n",
            "Requirement already satisfied: pytz<2023 in /usr/local/lib/python3.8/dist-packages (from mlflow->monai[fire,gdown,ignite,itk,lmdb,mlflow,nibabel,openslide,pillow,psutil,skimage,tensorboard,torchvision,tqdm]>=1.1.0->monailabel-weekly) (2022.7)\n",
            "Requirement already satisfied: markdown<4,>=3.3 in /usr/local/lib/python3.8/dist-packages (from mlflow->monai[fire,gdown,ignite,itk,lmdb,mlflow,nibabel,openslide,pillow,psutil,skimage,tensorboard,torchvision,tqdm]>=1.1.0->monailabel-weekly) (3.4.1)\n",
            "Requirement already satisfied: tensorboard-plugin-wit>=1.6.0 in /usr/local/lib/python3.8/dist-packages (from tensorboard->monai[fire,gdown,ignite,itk,lmdb,mlflow,nibabel,openslide,pillow,psutil,skimage,tensorboard,torchvision,tqdm]>=1.1.0->monailabel-weekly) (1.8.1)\n",
            "Requirement already satisfied: tensorboard-data-server<0.7.0,>=0.6.0 in /usr/local/lib/python3.8/dist-packages (from tensorboard->monai[fire,gdown,ignite,itk,lmdb,mlflow,nibabel,openslide,pillow,psutil,skimage,tensorboard,torchvision,tqdm]>=1.1.0->monailabel-weekly) (0.6.1)\n",
            "Requirement already satisfied: absl-py>=0.4 in /usr/local/lib/python3.8/dist-packages (from tensorboard->monai[fire,gdown,ignite,itk,lmdb,mlflow,nibabel,openslide,pillow,psutil,skimage,tensorboard,torchvision,tqdm]>=1.1.0->monailabel-weekly) (1.3.0)\n",
            "Requirement already satisfied: werkzeug>=1.0.1 in /usr/local/lib/python3.8/dist-packages (from tensorboard->monai[fire,gdown,ignite,itk,lmdb,mlflow,nibabel,openslide,pillow,psutil,skimage,tensorboard,torchvision,tqdm]>=1.1.0->monailabel-weekly) (1.0.1)\n",
            "Requirement already satisfied: wheel>=0.26 in /usr/local/lib/python3.8/dist-packages (from tensorboard->monai[fire,gdown,ignite,itk,lmdb,mlflow,nibabel,openslide,pillow,psutil,skimage,tensorboard,torchvision,tqdm]>=1.1.0->monailabel-weekly) (0.38.4)\n",
            "Requirement already satisfied: grpcio>=1.24.3 in /usr/local/lib/python3.8/dist-packages (from tensorboard->monai[fire,gdown,ignite,itk,lmdb,mlflow,nibabel,openslide,pillow,psutil,skimage,tensorboard,torchvision,tqdm]>=1.1.0->monailabel-weekly) (1.51.1)\n",
            "Requirement already satisfied: google-auth<3,>=1.6.3 in /usr/local/lib/python3.8/dist-packages (from tensorboard->monai[fire,gdown,ignite,itk,lmdb,mlflow,nibabel,openslide,pillow,psutil,skimage,tensorboard,torchvision,tqdm]>=1.1.0->monailabel-weekly) (2.16.0)\n",
            "Requirement already satisfied: google-auth-oauthlib<0.5,>=0.4.1 in /usr/local/lib/python3.8/dist-packages (from tensorboard->monai[fire,gdown,ignite,itk,lmdb,mlflow,nibabel,openslide,pillow,psutil,skimage,tensorboard,torchvision,tqdm]>=1.1.0->monailabel-weekly) (0.4.6)\n",
            "Requirement already satisfied: importlib-resources in /usr/local/lib/python3.8/dist-packages (from alembic<2->mlflow->monai[fire,gdown,ignite,itk,lmdb,mlflow,nibabel,openslide,pillow,psutil,skimage,tensorboard,torchvision,tqdm]>=1.1.0->monailabel-weekly) (5.10.2)\n",
            "Collecting Mako\n",
            "  Downloading Mako-1.2.4-py3-none-any.whl (78 kB)\n",
            "\u001b[2K     \u001b[90m━━━━━━━━━━━━━━━━━━━━━━━━━━━━━━━━━━━━━━━━\u001b[0m \u001b[32m78.7/78.7 KB\u001b[0m \u001b[31m12.1 MB/s\u001b[0m eta \u001b[36m0:00:00\u001b[0m\n",
            "\u001b[?25hCollecting pyjwt>=1.7.0\n",
            "  Downloading PyJWT-2.6.0-py3-none-any.whl (20 kB)\n",
            "Requirement already satisfied: oauthlib>=3.1.0 in /usr/local/lib/python3.8/dist-packages (from databricks-cli<1,>=0.8.7->mlflow->monai[fire,gdown,ignite,itk,lmdb,mlflow,nibabel,openslide,pillow,psutil,skimage,tensorboard,torchvision,tqdm]>=1.1.0->monailabel-weekly) (3.2.2)\n",
            "Requirement already satisfied: tabulate>=0.7.7 in /usr/local/lib/python3.8/dist-packages (from databricks-cli<1,>=0.8.7->mlflow->monai[fire,gdown,ignite,itk,lmdb,mlflow,nibabel,openslide,pillow,psutil,skimage,tensorboard,torchvision,tqdm]>=1.1.0->monailabel-weekly) (0.8.10)\n",
            "Collecting websocket-client>=0.32.0\n",
            "  Downloading websocket_client-1.5.0-py3-none-any.whl (55 kB)\n",
            "\u001b[2K     \u001b[90m━━━━━━━━━━━━━━━━━━━━━━━━━━━━━━━━━━━━━━━━\u001b[0m \u001b[32m55.9/55.9 KB\u001b[0m \u001b[31m8.1 MB/s\u001b[0m eta \u001b[36m0:00:00\u001b[0m\n",
            "\u001b[?25hCollecting urllib3<1.27,>=1.21.1\n",
            "  Downloading urllib3-1.26.14-py2.py3-none-any.whl (140 kB)\n",
            "\u001b[2K     \u001b[90m━━━━━━━━━━━━━━━━━━━━━━━━━━━━━━━━━━━━━━\u001b[0m \u001b[32m140.6/140.6 KB\u001b[0m \u001b[31m19.8 MB/s\u001b[0m eta \u001b[36m0:00:00\u001b[0m\n",
            "\u001b[?25hRequirement already satisfied: itsdangerous<2.0,>=0.24 in /usr/local/lib/python3.8/dist-packages (from Flask<3->mlflow->monai[fire,gdown,ignite,itk,lmdb,mlflow,nibabel,openslide,pillow,psutil,skimage,tensorboard,torchvision,tqdm]>=1.1.0->monailabel-weekly) (1.1.0)\n",
            "Collecting gitdb<5,>=4.0.1\n",
            "  Downloading gitdb-4.0.10-py3-none-any.whl (62 kB)\n",
            "\u001b[2K     \u001b[90m━━━━━━━━━━━━━━━━━━━━━━━━━━━━━━━━━━━━━━━━\u001b[0m \u001b[32m62.7/62.7 KB\u001b[0m \u001b[31m9.5 MB/s\u001b[0m eta \u001b[36m0:00:00\u001b[0m\n",
            "\u001b[?25hRequirement already satisfied: pyasn1-modules>=0.2.1 in /usr/local/lib/python3.8/dist-packages (from google-auth<3,>=1.6.3->tensorboard->monai[fire,gdown,ignite,itk,lmdb,mlflow,nibabel,openslide,pillow,psutil,skimage,tensorboard,torchvision,tqdm]>=1.1.0->monailabel-weekly) (0.2.8)\n",
            "Requirement already satisfied: requests-oauthlib>=0.7.0 in /usr/local/lib/python3.8/dist-packages (from google-auth-oauthlib<0.5,>=0.4.1->tensorboard->monai[fire,gdown,ignite,itk,lmdb,mlflow,nibabel,openslide,pillow,psutil,skimage,tensorboard,torchvision,tqdm]>=1.1.0->monailabel-weekly) (1.3.1)\n",
            "Requirement already satisfied: zipp>=0.5 in /usr/local/lib/python3.8/dist-packages (from importlib-metadata!=4.7.0,<6,>=3.7.0->mlflow->monai[fire,gdown,ignite,itk,lmdb,mlflow,nibabel,openslide,pillow,psutil,skimage,tensorboard,torchvision,tqdm]>=1.1.0->monailabel-weekly) (3.11.0)\n",
            "Requirement already satisfied: MarkupSafe>=0.23 in /usr/local/lib/python3.8/dist-packages (from Jinja2<4,>=2.11->mlflow->monai[fire,gdown,ignite,itk,lmdb,mlflow,nibabel,openslide,pillow,psutil,skimage,tensorboard,torchvision,tqdm]>=1.1.0->monailabel-weekly) (2.0.1)\n",
            "Requirement already satisfied: kiwisolver>=1.0.1 in /usr/local/lib/python3.8/dist-packages (from matplotlib!=3.0.0,>=2.0.0->scikit-image>=0.14.2->monai[fire,gdown,ignite,itk,lmdb,mlflow,nibabel,openslide,pillow,psutil,skimage,tensorboard,torchvision,tqdm]>=1.1.0->monailabel-weekly) (1.4.4)\n",
            "Requirement already satisfied: cycler>=0.10 in /usr/local/lib/python3.8/dist-packages (from matplotlib!=3.0.0,>=2.0.0->scikit-image>=0.14.2->monai[fire,gdown,ignite,itk,lmdb,mlflow,nibabel,openslide,pillow,psutil,skimage,tensorboard,torchvision,tqdm]>=1.1.0->monailabel-weekly) (0.11.0)\n",
            "Requirement already satisfied: python-dateutil>=2.1 in /usr/local/lib/python3.8/dist-packages (from matplotlib!=3.0.0,>=2.0.0->scikit-image>=0.14.2->monai[fire,gdown,ignite,itk,lmdb,mlflow,nibabel,openslide,pillow,psutil,skimage,tensorboard,torchvision,tqdm]>=1.1.0->monailabel-weekly) (2.8.2)\n",
            "Requirement already satisfied: pyparsing!=2.0.4,!=2.1.2,!=2.1.6,>=2.0.1 in /usr/local/lib/python3.8/dist-packages (from matplotlib!=3.0.0,>=2.0.0->scikit-image>=0.14.2->monai[fire,gdown,ignite,itk,lmdb,mlflow,nibabel,openslide,pillow,psutil,skimage,tensorboard,torchvision,tqdm]>=1.1.0->monailabel-weekly) (3.0.9)\n",
            "Requirement already satisfied: numba in /usr/local/lib/python3.8/dist-packages (from shap<1,>=0.40->mlflow->monai[fire,gdown,ignite,itk,lmdb,mlflow,nibabel,openslide,pillow,psutil,skimage,tensorboard,torchvision,tqdm]>=1.1.0->monailabel-weekly) (0.56.4)\n",
            "Collecting slicer==0.0.7\n",
            "  Downloading slicer-0.0.7-py3-none-any.whl (14 kB)\n",
            "Requirement already satisfied: greenlet!=0.4.17 in /usr/local/lib/python3.8/dist-packages (from sqlalchemy<2,>=1.4.0->mlflow->monai[fire,gdown,ignite,itk,lmdb,mlflow,nibabel,openslide,pillow,psutil,skimage,tensorboard,torchvision,tqdm]>=1.1.0->monailabel-weekly) (2.0.1)\n",
            "Collecting requests[socks]\n",
            "  Downloading requests-2.28.2-py3-none-any.whl (62 kB)\n",
            "\u001b[2K     \u001b[90m━━━━━━━━━━━━━━━━━━━━━━━━━━━━━━━━━━━━━━━━\u001b[0m \u001b[32m62.8/62.8 KB\u001b[0m \u001b[31m8.9 MB/s\u001b[0m eta \u001b[36m0:00:00\u001b[0m\n",
            "\u001b[?25hRequirement already satisfied: PySocks!=1.5.7,>=1.5.6 in /usr/local/lib/python3.8/dist-packages (from requests==2.28.1->monailabel-weekly) (1.7.1)\n",
            "Collecting smmap<6,>=3.0.1\n",
            "  Downloading smmap-5.0.0-py3-none-any.whl (24 kB)\n",
            "Requirement already satisfied: llvmlite<0.40,>=0.39.0dev0 in /usr/local/lib/python3.8/dist-packages (from numba->shap<1,>=0.40->mlflow->monai[fire,gdown,ignite,itk,lmdb,mlflow,nibabel,openslide,pillow,psutil,skimage,tensorboard,torchvision,tqdm]>=1.1.0->monailabel-weekly) (0.39.1)\n",
            "Building wheels for collected packages: expiringdict, girder-client, python-multipart, timeloop, openslide-python, fire, databricks-cli\n",
            "  Building wheel for expiringdict (setup.py) ... \u001b[?25l\u001b[?25hdone\n",
            "  Created wheel for expiringdict: filename=expiringdict-1.2.1-py3-none-any.whl size=8439 sha256=48fbf7ad217bf08d3c70371f8524e20ca7bd310468e393c4b6c8f6907ec45d4a\n",
            "  Stored in directory: /root/.cache/pip/wheels/7a/eb/2f/3c53c63ed2cbc1651fd827fa5ab0737ba09e0c46e2197a3ff4\n",
            "  Building wheel for girder-client (setup.py) ... \u001b[?25l\u001b[?25hdone\n",
            "  Created wheel for girder-client: filename=girder_client-3.1.14-py3-none-any.whl size=21190 sha256=454446e7a805ce52b58a30efcd8990cdb0a15ac511f9d4970ffed54e8487867a\n",
            "  Stored in directory: /root/.cache/pip/wheels/67/b4/29/1f1e207dc4092de55ea4a49d00c8ee516faebac969d87640a4\n",
            "  Building wheel for python-multipart (setup.py) ... \u001b[?25l\u001b[?25hdone\n",
            "  Created wheel for python-multipart: filename=python_multipart-0.0.5-py3-none-any.whl size=31678 sha256=b06de9a5df19c1da807b7a327dc2335db6e910f4d4a2faa0ebddf5286fa3a168\n",
            "  Stored in directory: /root/.cache/pip/wheels/9e/fc/1c/cf980e6413d3ee8e70cd8f39e2366b0f487e3e221aeb452eb0\n",
            "  Building wheel for timeloop (setup.py) ... \u001b[?25l\u001b[?25hdone\n",
            "  Created wheel for timeloop: filename=timeloop-1.0.2-py3-none-any.whl size=3720 sha256=a813a66a3147d5f95804fd8435ea683d569a4c4630d678fd0a720e6baa478861\n",
            "  Stored in directory: /root/.cache/pip/wheels/f8/69/2a/86476a2decfc2111dd1f10e723764a4d267b3bde7a47cd366e\n",
            "  Building wheel for openslide-python (setup.py) ... \u001b[?25l\u001b[?25hdone\n",
            "  Created wheel for openslide-python: filename=openslide_python-1.1.2-cp38-cp38-linux_x86_64.whl size=27185 sha256=cbd08d97bfd6919fa58eebd481c891e5d61fb187de9f4a6d66e2a0ca8329fac5\n",
            "  Stored in directory: /root/.cache/pip/wheels/54/f7/99/15df0aea11eefca84d990052a0133ead40443e8abe22d18a11\n",
            "  Building wheel for fire (setup.py) ... \u001b[?25l\u001b[?25hdone\n",
            "  Created wheel for fire: filename=fire-0.5.0-py2.py3-none-any.whl size=116949 sha256=87b33a30f747aca671f26cb8591efe9662a21beafd4d2780494a73256efee0b6\n",
            "  Stored in directory: /root/.cache/pip/wheels/5b/eb/43/7295e71293b218ddfd627f935229bf54af9018add7fbb5aac6\n",
            "  Building wheel for databricks-cli (setup.py) ... \u001b[?25l\u001b[?25hdone\n",
            "  Created wheel for databricks-cli: filename=databricks_cli-0.17.4-py3-none-any.whl size=142894 sha256=18424c95459e54db5d30b77c5ea759974111bae0899479741d4cc65951f54af9\n",
            "  Stored in directory: /root/.cache/pip/wheels/48/7c/6e/4bf2c1748c7ecf994ca951591de81674ed6bf633e1e337d873\n",
            "Successfully built expiringdict girder-client python-multipart timeloop openslide-python fire databricks-cli\n",
            "Installing collected packages: timeloop, SimpleITK, rfc3986, passlib, ninja, expiringdict, websocket-client, watchdog, urllib3, sniffio, smmap, slicer, shapely, schedule, retrying, querystring-parser, python-multipart, python-dotenv, pynrrd, pyjwt, pydicom, Pillow, opencv-python-headless, numpymaxflow, Mako, jsonschema, itk-core, importlib-metadata, h11, gunicorn, fire, filelock, expiring-dict, einops, ecdsa, diskcache, cachetools, asgiref, uvicorn, requests, pytorch-ignite, python-jose, pynetdicom, pydicom-seg, openslide-python, monai, itk-numerics, itk-io, gitdb, cryptography, bcrypt, anyio, alembic, starlette, shap, requests-toolbelt, itk-filtering, httpcore, gitpython, docker, dicomweb-client, databricks-cli, mlflow, itk-segmentation, itk-registration, httpx, girder-client, fastapi, itk, monailabel-weekly\n",
            "  Attempting uninstall: urllib3\n",
            "    Found existing installation: urllib3 1.24.3\n",
            "    Uninstalling urllib3-1.24.3:\n",
            "      Successfully uninstalled urllib3-1.24.3\n",
            "  Attempting uninstall: shapely\n",
            "    Found existing installation: shapely 2.0.0\n",
            "    Uninstalling shapely-2.0.0:\n",
            "      Successfully uninstalled shapely-2.0.0\n",
            "  Attempting uninstall: Pillow\n",
            "    Found existing installation: Pillow 7.1.2\n",
            "    Uninstalling Pillow-7.1.2:\n",
            "      Successfully uninstalled Pillow-7.1.2\n",
            "  Attempting uninstall: opencv-python-headless\n",
            "    Found existing installation: opencv-python-headless 4.7.0.68\n",
            "    Uninstalling opencv-python-headless-4.7.0.68:\n",
            "      Successfully uninstalled opencv-python-headless-4.7.0.68\n",
            "  Attempting uninstall: jsonschema\n",
            "    Found existing installation: jsonschema 4.3.3\n",
            "    Uninstalling jsonschema-4.3.3:\n",
            "      Successfully uninstalled jsonschema-4.3.3\n",
            "  Attempting uninstall: importlib-metadata\n",
            "    Found existing installation: importlib-metadata 6.0.0\n",
            "    Uninstalling importlib-metadata-6.0.0:\n",
            "      Successfully uninstalled importlib-metadata-6.0.0\n",
            "  Attempting uninstall: filelock\n",
            "    Found existing installation: filelock 3.9.0\n",
            "    Uninstalling filelock-3.9.0:\n",
            "      Successfully uninstalled filelock-3.9.0\n",
            "  Attempting uninstall: cachetools\n",
            "    Found existing installation: cachetools 5.2.1\n",
            "    Uninstalling cachetools-5.2.1:\n",
            "      Successfully uninstalled cachetools-5.2.1\n",
            "  Attempting uninstall: requests\n",
            "    Found existing installation: requests 2.25.1\n",
            "    Uninstalling requests-2.25.1:\n",
            "      Successfully uninstalled requests-2.25.1\n",
            "Successfully installed Mako-1.2.4 Pillow-9.4.0 SimpleITK-2.2.1 alembic-1.9.2 anyio-3.6.2 asgiref-3.6.0 bcrypt-3.2.2 cachetools-5.2.0 cryptography-39.0.0 databricks-cli-0.17.4 dicomweb-client-0.56.2 diskcache-5.4.0 docker-6.0.1 ecdsa-0.18.0 einops-0.6.0 expiring-dict-1.1.0 expiringdict-1.2.1 fastapi-0.78.0 filelock-3.7.1 fire-0.5.0 girder-client-3.1.14 gitdb-4.0.10 gitpython-3.1.30 gunicorn-20.1.0 h11-0.12.0 httpcore-0.15.0 httpx-0.23.0 importlib-metadata-5.2.0 itk-5.3.0 itk-core-5.3.0 itk-filtering-5.3.0 itk-io-5.3.0 itk-numerics-5.3.0 itk-registration-5.3.0 itk-segmentation-5.3.0 jsonschema-3.2.0 mlflow-2.1.1 monai-1.1.0 monailabel-weekly-0.5.dev2305 ninja-1.10.2.3 numpymaxflow-0.0.5 opencv-python-headless-4.5.5.64 openslide-python-1.1.2 passlib-1.7.4 pydicom-2.3.0 pydicom-seg-0.4.0 pyjwt-2.6.0 pynetdicom-2.0.2 pynrrd-0.4.3 python-dotenv-0.20.0 python-jose-3.3.0 python-multipart-0.0.5 pytorch-ignite-0.4.10 querystring-parser-1.2.4 requests-2.28.1 requests-toolbelt-0.9.1 retrying-1.3.4 rfc3986-1.5.0 schedule-1.1.0 shap-0.41.0 shapely-1.8.2 slicer-0.0.7 smmap-5.0.0 sniffio-1.3.0 starlette-0.19.1 timeloop-1.0.2 urllib3-1.26.14 uvicorn-0.17.6 watchdog-2.1.8 websocket-client-1.5.0\n"
          ]
        },
        {
          "output_type": "display_data",
          "data": {
            "application/vnd.colab-display-data+json": {
              "pip_warning": {
                "packages": [
                  "PIL"
                ]
              }
            }
          },
          "metadata": {}
        }
      ]
    },
    {
      "cell_type": "markdown",
      "source": [
        "# Environment setup"
      ],
      "metadata": {
        "id": "MQhvG7Zy5mmA"
      }
    },
    {
      "cell_type": "code",
      "source": [
        "from google.colab import auth\n",
        "auth.authenticate_user()"
      ],
      "metadata": {
        "id": "7t8KhHFsEm7K"
      },
      "execution_count": 1,
      "outputs": []
    },
    {
      "cell_type": "code",
      "source": [
        "from google.colab import drive\n",
        "drive.mount('/content/gdrive')"
      ],
      "metadata": {
        "colab": {
          "base_uri": "https://localhost:8080/"
        },
        "id": "vOrmhX0Tt45y",
        "outputId": "74c285d1-ea54-41d3-81b1-48137843ea17"
      },
      "execution_count": 2,
      "outputs": [
        {
          "output_type": "stream",
          "name": "stdout",
          "text": [
            "Mounted at /content/gdrive\n"
          ]
        }
      ]
    },
    {
      "cell_type": "code",
      "source": [
        "# !pip install -qU \"monai[ignite, nibabel, torchvision, tqdm]==0.6.0\"\n",
        "# !pip install monai-weekly\n",
        "!pip install 'monai[all]'"
      ],
      "metadata": {
        "colab": {
          "base_uri": "https://localhost:8080/"
        },
        "id": "GRX8YJ-wTD2f",
        "outputId": "f52cd7f6-a05b-467f-e18e-aa109d27f9b5"
      },
      "execution_count": 3,
      "outputs": [
        {
          "output_type": "stream",
          "name": "stdout",
          "text": [
            "Looking in indexes: https://pypi.org/simple, https://us-python.pkg.dev/colab-wheels/public/simple/\n",
            "Requirement already satisfied: monai[all] in /usr/local/lib/python3.8/dist-packages (1.1.0)\n",
            "Requirement already satisfied: torch>=1.8 in /usr/local/lib/python3.8/dist-packages (from monai[all]) (1.13.1+cu116)\n",
            "Requirement already satisfied: numpy>=1.17 in /usr/local/lib/python3.8/dist-packages (from monai[all]) (1.21.6)\n",
            "Requirement already satisfied: pandas in /usr/local/lib/python3.8/dist-packages (from monai[all]) (1.3.5)\n",
            "Collecting imagecodecs\n",
            "  Downloading imagecodecs-2023.1.23-cp38-cp38-manylinux_2_17_x86_64.manylinux2014_x86_64.whl (36.2 MB)\n",
            "\u001b[2K     \u001b[90m━━━━━━━━━━━━━━━━━━━━━━━━━━━━━━━━━━━━━━━━\u001b[0m \u001b[32m36.2/36.2 MB\u001b[0m \u001b[31m39.4 MB/s\u001b[0m eta \u001b[36m0:00:00\u001b[0m\n",
            "\u001b[?25hCollecting cucim>=22.8.1\n",
            "  Downloading cucim-22.12.0-py3-none-manylinux2014_x86_64.whl (8.6 MB)\n",
            "\u001b[2K     \u001b[90m━━━━━━━━━━━━━━━━━━━━━━━━━━━━━━━━━━━━━━━━\u001b[0m \u001b[32m8.6/8.6 MB\u001b[0m \u001b[31m7.8 MB/s\u001b[0m eta \u001b[36m0:00:00\u001b[0m\n",
            "\u001b[?25hCollecting tensorboardX\n",
            "  Downloading tensorboardX-2.5.1-py2.py3-none-any.whl (125 kB)\n",
            "\u001b[2K     \u001b[90m━━━━━━━━━━━━━━━━━━━━━━━━━━━━━━━━━━━━━━\u001b[0m \u001b[32m125.4/125.4 KB\u001b[0m \u001b[31m18.0 MB/s\u001b[0m eta \u001b[36m0:00:00\u001b[0m\n",
            "\u001b[?25hRequirement already satisfied: gdown>=4.4.0 in /usr/local/lib/python3.8/dist-packages (from monai[all]) (4.4.0)\n",
            "Requirement already satisfied: pillow in /usr/local/lib/python3.8/dist-packages (from monai[all]) (9.4.0)\n",
            "Requirement already satisfied: mlflow in /usr/local/lib/python3.8/dist-packages (from monai[all]) (2.1.1)\n",
            "Collecting nni\n",
            "  Downloading nni-2.10-py3-none-manylinux1_x86_64.whl (56.0 MB)\n",
            "\u001b[2K     \u001b[90m━━━━━━━━━━━━━━━━━━━━━━━━━━━━━━━━━━━━━━━━\u001b[0m \u001b[32m56.0/56.0 MB\u001b[0m \u001b[31m26.0 MB/s\u001b[0m eta \u001b[36m0:00:00\u001b[0m\n",
            "\u001b[?25hRequirement already satisfied: tensorboard in /usr/local/lib/python3.8/dist-packages (from monai[all]) (2.9.1)\n",
            "Requirement already satisfied: openslide-python==1.1.2 in /usr/local/lib/python3.8/dist-packages (from monai[all]) (1.1.2)\n",
            "Requirement already satisfied: ninja in /usr/local/lib/python3.8/dist-packages (from monai[all]) (1.10.2.3)\n",
            "Requirement already satisfied: lmdb in /usr/local/lib/python3.8/dist-packages (from monai[all]) (0.99)\n",
            "Requirement already satisfied: nibabel in /usr/local/lib/python3.8/dist-packages (from monai[all]) (3.0.2)\n",
            "Collecting optuna\n",
            "  Downloading optuna-3.1.0-py3-none-any.whl (365 kB)\n",
            "\u001b[2K     \u001b[90m━━━━━━━━━━━━━━━━━━━━━━━━━━━━━━━━━━━━━━\u001b[0m \u001b[32m365.3/365.3 KB\u001b[0m \u001b[31m42.9 MB/s\u001b[0m eta \u001b[36m0:00:00\u001b[0m\n",
            "\u001b[?25hRequirement already satisfied: scikit-image>=0.14.2 in /usr/local/lib/python3.8/dist-packages (from monai[all]) (0.18.3)\n",
            "Requirement already satisfied: jsonschema in /usr/local/lib/python3.8/dist-packages (from monai[all]) (3.2.0)\n",
            "Requirement already satisfied: tifffile in /usr/local/lib/python3.8/dist-packages (from monai[all]) (2022.10.10)\n",
            "Requirement already satisfied: psutil in /usr/local/lib/python3.8/dist-packages (from monai[all]) (5.4.8)\n",
            "Requirement already satisfied: torchvision in /usr/local/lib/python3.8/dist-packages (from monai[all]) (0.14.1+cu116)\n",
            "Requirement already satisfied: h5py in /usr/local/lib/python3.8/dist-packages (from monai[all]) (3.1.0)\n",
            "Requirement already satisfied: pynrrd in /usr/local/lib/python3.8/dist-packages (from monai[all]) (0.4.3)\n",
            "Requirement already satisfied: einops in /usr/local/lib/python3.8/dist-packages (from monai[all]) (0.6.0)\n",
            "Requirement already satisfied: fire in /usr/local/lib/python3.8/dist-packages (from monai[all]) (0.5.0)\n",
            "Requirement already satisfied: pytorch-ignite==0.4.10 in /usr/local/lib/python3.8/dist-packages (from monai[all]) (0.4.10)\n",
            "Collecting transformers<4.22\n",
            "  Downloading transformers-4.21.3-py3-none-any.whl (4.7 MB)\n",
            "\u001b[2K     \u001b[90m━━━━━━━━━━━━━━━━━━━━━━━━━━━━━━━━━━━━━━━━\u001b[0m \u001b[32m4.7/4.7 MB\u001b[0m \u001b[31m85.2 MB/s\u001b[0m eta \u001b[36m0:00:00\u001b[0m\n",
            "\u001b[?25hRequirement already satisfied: pydicom in /usr/local/lib/python3.8/dist-packages (from monai[all]) (2.3.0)\n",
            "Requirement already satisfied: itk>=5.2 in /usr/local/lib/python3.8/dist-packages (from monai[all]) (5.3.0)\n",
            "Requirement already satisfied: tqdm>=4.47.0 in /usr/local/lib/python3.8/dist-packages (from monai[all]) (4.64.1)\n",
            "Requirement already satisfied: pyyaml in /usr/local/lib/python3.8/dist-packages (from monai[all]) (6.0)\n",
            "Requirement already satisfied: matplotlib in /usr/local/lib/python3.8/dist-packages (from monai[all]) (3.2.2)\n",
            "Requirement already satisfied: packaging in /usr/local/lib/python3.8/dist-packages (from pytorch-ignite==0.4.10->monai[all]) (21.3)\n",
            "Requirement already satisfied: click in /usr/local/lib/python3.8/dist-packages (from cucim>=22.8.1->monai[all]) (7.1.2)\n",
            "Requirement already satisfied: filelock in /usr/local/lib/python3.8/dist-packages (from gdown>=4.4.0->monai[all]) (3.7.1)\n",
            "Requirement already satisfied: six in /usr/local/lib/python3.8/dist-packages (from gdown>=4.4.0->monai[all]) (1.15.0)\n",
            "Requirement already satisfied: beautifulsoup4 in /usr/local/lib/python3.8/dist-packages (from gdown>=4.4.0->monai[all]) (4.6.3)\n",
            "Requirement already satisfied: requests[socks] in /usr/local/lib/python3.8/dist-packages (from gdown>=4.4.0->monai[all]) (2.28.1)\n",
            "Requirement already satisfied: itk-filtering==5.3.0 in /usr/local/lib/python3.8/dist-packages (from itk>=5.2->monai[all]) (5.3.0)\n",
            "Requirement already satisfied: itk-segmentation==5.3.0 in /usr/local/lib/python3.8/dist-packages (from itk>=5.2->monai[all]) (5.3.0)\n",
            "Requirement already satisfied: itk-numerics==5.3.0 in /usr/local/lib/python3.8/dist-packages (from itk>=5.2->monai[all]) (5.3.0)\n",
            "Requirement already satisfied: itk-registration==5.3.0 in /usr/local/lib/python3.8/dist-packages (from itk>=5.2->monai[all]) (5.3.0)\n",
            "Requirement already satisfied: itk-io==5.3.0 in /usr/local/lib/python3.8/dist-packages (from itk>=5.2->monai[all]) (5.3.0)\n",
            "Requirement already satisfied: itk-core==5.3.0 in /usr/local/lib/python3.8/dist-packages (from itk>=5.2->monai[all]) (5.3.0)\n",
            "Requirement already satisfied: imageio>=2.3.0 in /usr/local/lib/python3.8/dist-packages (from scikit-image>=0.14.2->monai[all]) (2.9.0)\n",
            "Requirement already satisfied: networkx>=2.0 in /usr/local/lib/python3.8/dist-packages (from scikit-image>=0.14.2->monai[all]) (3.0)\n",
            "Requirement already satisfied: scipy>=1.0.1 in /usr/local/lib/python3.8/dist-packages (from scikit-image>=0.14.2->monai[all]) (1.7.3)\n",
            "Requirement already satisfied: PyWavelets>=1.1.1 in /usr/local/lib/python3.8/dist-packages (from scikit-image>=0.14.2->monai[all]) (1.4.1)\n",
            "Requirement already satisfied: pyparsing!=2.0.4,!=2.1.2,!=2.1.6,>=2.0.1 in /usr/local/lib/python3.8/dist-packages (from matplotlib->monai[all]) (3.0.9)\n",
            "Requirement already satisfied: python-dateutil>=2.1 in /usr/local/lib/python3.8/dist-packages (from matplotlib->monai[all]) (2.8.2)\n",
            "Requirement already satisfied: cycler>=0.10 in /usr/local/lib/python3.8/dist-packages (from matplotlib->monai[all]) (0.11.0)\n",
            "Requirement already satisfied: kiwisolver>=1.0.1 in /usr/local/lib/python3.8/dist-packages (from matplotlib->monai[all]) (1.4.4)\n",
            "Requirement already satisfied: typing-extensions in /usr/local/lib/python3.8/dist-packages (from torch>=1.8->monai[all]) (4.4.0)\n",
            "Requirement already satisfied: regex!=2019.12.17 in /usr/local/lib/python3.8/dist-packages (from transformers<4.22->monai[all]) (2022.6.2)\n",
            "Collecting huggingface-hub<1.0,>=0.1.0\n",
            "  Downloading huggingface_hub-0.12.0-py3-none-any.whl (190 kB)\n",
            "\u001b[2K     \u001b[90m━━━━━━━━━━━━━━━━━━━━━━━━━━━━━━━━━━━━━━\u001b[0m \u001b[32m190.3/190.3 KB\u001b[0m \u001b[31m24.8 MB/s\u001b[0m eta \u001b[36m0:00:00\u001b[0m\n",
            "\u001b[?25hCollecting tokenizers!=0.11.3,<0.13,>=0.11.1\n",
            "  Downloading tokenizers-0.12.1-cp38-cp38-manylinux_2_12_x86_64.manylinux2010_x86_64.whl (6.6 MB)\n",
            "\u001b[2K     \u001b[90m━━━━━━━━━━━━━━━━━━━━━━━━━━━━━━━━━━━━━━━━\u001b[0m \u001b[32m6.6/6.6 MB\u001b[0m \u001b[31m110.8 MB/s\u001b[0m eta \u001b[36m0:00:00\u001b[0m\n",
            "\u001b[?25hRequirement already satisfied: termcolor in /usr/local/lib/python3.8/dist-packages (from fire->monai[all]) (2.2.0)\n",
            "Requirement already satisfied: pyrsistent>=0.14.0 in /usr/local/lib/python3.8/dist-packages (from jsonschema->monai[all]) (0.19.3)\n",
            "Requirement already satisfied: setuptools in /usr/local/lib/python3.8/dist-packages (from jsonschema->monai[all]) (57.4.0)\n",
            "Requirement already satisfied: attrs>=17.4.0 in /usr/local/lib/python3.8/dist-packages (from jsonschema->monai[all]) (22.2.0)\n",
            "Requirement already satisfied: sqlalchemy<2,>=1.4.0 in /usr/local/lib/python3.8/dist-packages (from mlflow->monai[all]) (1.4.46)\n",
            "Requirement already satisfied: docker<7,>=4.0.0 in /usr/local/lib/python3.8/dist-packages (from mlflow->monai[all]) (6.0.1)\n",
            "Requirement already satisfied: querystring-parser<2 in /usr/local/lib/python3.8/dist-packages (from mlflow->monai[all]) (1.2.4)\n",
            "Requirement already satisfied: shap<1,>=0.40 in /usr/local/lib/python3.8/dist-packages (from mlflow->monai[all]) (0.41.0)\n",
            "Requirement already satisfied: entrypoints<1 in /usr/local/lib/python3.8/dist-packages (from mlflow->monai[all]) (0.4)\n",
            "Requirement already satisfied: Flask<3 in /usr/local/lib/python3.8/dist-packages (from mlflow->monai[all]) (1.1.4)\n",
            "Requirement already satisfied: pyarrow<11,>=4.0.0 in /usr/local/lib/python3.8/dist-packages (from mlflow->monai[all]) (9.0.0)\n",
            "Requirement already satisfied: databricks-cli<1,>=0.8.7 in /usr/local/lib/python3.8/dist-packages (from mlflow->monai[all]) (0.17.4)\n",
            "Requirement already satisfied: protobuf<5,>=3.12.0 in /usr/local/lib/python3.8/dist-packages (from mlflow->monai[all]) (3.19.6)\n",
            "Requirement already satisfied: gunicorn<21 in /usr/local/lib/python3.8/dist-packages (from mlflow->monai[all]) (20.1.0)\n",
            "Requirement already satisfied: pytz<2023 in /usr/local/lib/python3.8/dist-packages (from mlflow->monai[all]) (2022.7)\n",
            "Requirement already satisfied: importlib-metadata!=4.7.0,<6,>=3.7.0 in /usr/local/lib/python3.8/dist-packages (from mlflow->monai[all]) (5.2.0)\n",
            "Requirement already satisfied: gitpython<4,>=2.1.0 in /usr/local/lib/python3.8/dist-packages (from mlflow->monai[all]) (3.1.30)\n",
            "Requirement already satisfied: scikit-learn<2 in /usr/local/lib/python3.8/dist-packages (from mlflow->monai[all]) (1.0.2)\n",
            "Requirement already satisfied: sqlparse<1,>=0.4.0 in /usr/local/lib/python3.8/dist-packages (from mlflow->monai[all]) (0.4.3)\n",
            "Requirement already satisfied: alembic<2 in /usr/local/lib/python3.8/dist-packages (from mlflow->monai[all]) (1.9.2)\n",
            "Requirement already satisfied: Jinja2<4,>=2.11 in /usr/local/lib/python3.8/dist-packages (from mlflow->monai[all]) (2.11.3)\n",
            "Requirement already satisfied: markdown<4,>=3.3 in /usr/local/lib/python3.8/dist-packages (from mlflow->monai[all]) (3.4.1)\n",
            "Requirement already satisfied: cloudpickle<3 in /usr/local/lib/python3.8/dist-packages (from mlflow->monai[all]) (2.2.0)\n",
            "Collecting responses\n",
            "  Downloading responses-0.22.0-py3-none-any.whl (51 kB)\n",
            "\u001b[2K     \u001b[90m━━━━━━━━━━━━━━━━━━━━━━━━━━━━━━━━━━━━━━━━\u001b[0m \u001b[32m51.1/51.1 KB\u001b[0m \u001b[31m7.5 MB/s\u001b[0m eta \u001b[36m0:00:00\u001b[0m\n",
            "\u001b[?25hRequirement already satisfied: typeguard in /usr/local/lib/python3.8/dist-packages (from nni->monai[all]) (2.7.1)\n",
            "Collecting websockets>=10.1\n",
            "  Downloading websockets-10.4-cp38-cp38-manylinux_2_5_x86_64.manylinux1_x86_64.manylinux_2_17_x86_64.manylinux2014_x86_64.whl (106 kB)\n",
            "\u001b[2K     \u001b[90m━━━━━━━━━━━━━━━━━━━━━━━━━━━━━━━━━━━━━━\u001b[0m \u001b[32m107.0/107.0 KB\u001b[0m \u001b[31m15.8 MB/s\u001b[0m eta \u001b[36m0:00:00\u001b[0m\n",
            "\u001b[?25hCollecting PythonWebHDFS\n",
            "  Downloading PythonWebHDFS-0.2.3-py3-none-any.whl (10 kB)\n",
            "Requirement already satisfied: prettytable in /usr/local/lib/python3.8/dist-packages (from nni->monai[all]) (3.6.0)\n",
            "Collecting colorama\n",
            "  Downloading colorama-0.4.6-py2.py3-none-any.whl (25 kB)\n",
            "Requirement already satisfied: astor in /usr/local/lib/python3.8/dist-packages (from nni->monai[all]) (0.8.1)\n",
            "Collecting schema\n",
            "  Downloading schema-0.7.5-py2.py3-none-any.whl (17 kB)\n",
            "Collecting json-tricks>=3.15.5\n",
            "  Downloading json_tricks-3.16.1-py2.py3-none-any.whl (27 kB)\n",
            "Collecting cmaes>=0.9.1\n",
            "  Downloading cmaes-0.9.1-py3-none-any.whl (21 kB)\n",
            "Collecting colorlog\n",
            "  Downloading colorlog-6.7.0-py2.py3-none-any.whl (11 kB)\n",
            "Requirement already satisfied: wheel>=0.26 in /usr/local/lib/python3.8/dist-packages (from tensorboard->monai[all]) (0.38.4)\n",
            "Requirement already satisfied: werkzeug>=1.0.1 in /usr/local/lib/python3.8/dist-packages (from tensorboard->monai[all]) (1.0.1)\n",
            "Requirement already satisfied: grpcio>=1.24.3 in /usr/local/lib/python3.8/dist-packages (from tensorboard->monai[all]) (1.51.1)\n",
            "Requirement already satisfied: tensorboard-data-server<0.7.0,>=0.6.0 in /usr/local/lib/python3.8/dist-packages (from tensorboard->monai[all]) (0.6.1)\n",
            "Requirement already satisfied: google-auth<3,>=1.6.3 in /usr/local/lib/python3.8/dist-packages (from tensorboard->monai[all]) (2.16.0)\n",
            "Requirement already satisfied: google-auth-oauthlib<0.5,>=0.4.1 in /usr/local/lib/python3.8/dist-packages (from tensorboard->monai[all]) (0.4.6)\n",
            "Requirement already satisfied: absl-py>=0.4 in /usr/local/lib/python3.8/dist-packages (from tensorboard->monai[all]) (1.3.0)\n",
            "Requirement already satisfied: tensorboard-plugin-wit>=1.6.0 in /usr/local/lib/python3.8/dist-packages (from tensorboard->monai[all]) (1.8.1)\n",
            "Requirement already satisfied: Mako in /usr/local/lib/python3.8/dist-packages (from alembic<2->mlflow->monai[all]) (1.2.4)\n",
            "Requirement already satisfied: importlib-resources in /usr/local/lib/python3.8/dist-packages (from alembic<2->mlflow->monai[all]) (5.10.2)\n",
            "Requirement already satisfied: tabulate>=0.7.7 in /usr/local/lib/python3.8/dist-packages (from databricks-cli<1,>=0.8.7->mlflow->monai[all]) (0.8.10)\n",
            "Requirement already satisfied: pyjwt>=1.7.0 in /usr/local/lib/python3.8/dist-packages (from databricks-cli<1,>=0.8.7->mlflow->monai[all]) (2.6.0)\n",
            "Requirement already satisfied: oauthlib>=3.1.0 in /usr/local/lib/python3.8/dist-packages (from databricks-cli<1,>=0.8.7->mlflow->monai[all]) (3.2.2)\n",
            "Requirement already satisfied: websocket-client>=0.32.0 in /usr/local/lib/python3.8/dist-packages (from docker<7,>=4.0.0->mlflow->monai[all]) (1.5.0)\n",
            "Requirement already satisfied: urllib3>=1.26.0 in /usr/local/lib/python3.8/dist-packages (from docker<7,>=4.0.0->mlflow->monai[all]) (1.26.14)\n",
            "Requirement already satisfied: itsdangerous<2.0,>=0.24 in /usr/local/lib/python3.8/dist-packages (from Flask<3->mlflow->monai[all]) (1.1.0)\n",
            "Requirement already satisfied: gitdb<5,>=4.0.1 in /usr/local/lib/python3.8/dist-packages (from gitpython<4,>=2.1.0->mlflow->monai[all]) (4.0.10)\n",
            "Requirement already satisfied: pyasn1-modules>=0.2.1 in /usr/local/lib/python3.8/dist-packages (from google-auth<3,>=1.6.3->tensorboard->monai[all]) (0.2.8)\n",
            "Requirement already satisfied: rsa<5,>=3.1.4 in /usr/local/lib/python3.8/dist-packages (from google-auth<3,>=1.6.3->tensorboard->monai[all]) (4.9)\n",
            "Requirement already satisfied: cachetools<6.0,>=2.0.0 in /usr/local/lib/python3.8/dist-packages (from google-auth<3,>=1.6.3->tensorboard->monai[all]) (5.2.0)\n",
            "Requirement already satisfied: requests-oauthlib>=0.7.0 in /usr/local/lib/python3.8/dist-packages (from google-auth-oauthlib<0.5,>=0.4.1->tensorboard->monai[all]) (1.3.1)\n",
            "Requirement already satisfied: zipp>=0.5 in /usr/local/lib/python3.8/dist-packages (from importlib-metadata!=4.7.0,<6,>=3.7.0->mlflow->monai[all]) (3.11.0)\n",
            "Requirement already satisfied: MarkupSafe>=0.23 in /usr/local/lib/python3.8/dist-packages (from Jinja2<4,>=2.11->mlflow->monai[all]) (2.0.1)\n",
            "Requirement already satisfied: certifi>=2017.4.17 in /usr/local/lib/python3.8/dist-packages (from requests[socks]->gdown>=4.4.0->monai[all]) (2022.12.7)\n",
            "Requirement already satisfied: idna<4,>=2.5 in /usr/local/lib/python3.8/dist-packages (from requests[socks]->gdown>=4.4.0->monai[all]) (2.10)\n",
            "Requirement already satisfied: charset-normalizer<3,>=2 in /usr/local/lib/python3.8/dist-packages (from requests[socks]->gdown>=4.4.0->monai[all]) (2.1.1)\n",
            "Requirement already satisfied: threadpoolctl>=2.0.0 in /usr/local/lib/python3.8/dist-packages (from scikit-learn<2->mlflow->monai[all]) (3.1.0)\n",
            "Requirement already satisfied: joblib>=0.11 in /usr/local/lib/python3.8/dist-packages (from scikit-learn<2->mlflow->monai[all]) (1.2.0)\n",
            "Requirement already satisfied: numba in /usr/local/lib/python3.8/dist-packages (from shap<1,>=0.40->mlflow->monai[all]) (0.56.4)\n",
            "Requirement already satisfied: slicer==0.0.7 in /usr/local/lib/python3.8/dist-packages (from shap<1,>=0.40->mlflow->monai[all]) (0.0.7)\n",
            "Requirement already satisfied: greenlet!=0.4.17 in /usr/local/lib/python3.8/dist-packages (from sqlalchemy<2,>=1.4.0->mlflow->monai[all]) (2.0.1)\n",
            "Requirement already satisfied: wcwidth in /usr/local/lib/python3.8/dist-packages (from prettytable->nni->monai[all]) (0.2.5)\n",
            "Collecting simplejson\n",
            "  Downloading simplejson-3.18.1-cp38-cp38-manylinux_2_5_x86_64.manylinux1_x86_64.manylinux_2_17_x86_64.manylinux2014_x86_64.whl (135 kB)\n",
            "\u001b[2K     \u001b[90m━━━━━━━━━━━━━━━━━━━━━━━━━━━━━━━━━━━━━━\u001b[0m \u001b[32m135.5/135.5 KB\u001b[0m \u001b[31m18.5 MB/s\u001b[0m eta \u001b[36m0:00:00\u001b[0m\n",
            "\u001b[?25hRequirement already satisfied: PySocks!=1.5.7,>=1.5.6 in /usr/local/lib/python3.8/dist-packages (from requests[socks]->gdown>=4.4.0->monai[all]) (1.7.1)\n",
            "Requirement already satisfied: toml in /usr/local/lib/python3.8/dist-packages (from responses->nni->monai[all]) (0.10.2)\n",
            "Collecting types-toml\n",
            "  Downloading types_toml-0.10.8.1-py3-none-any.whl (4.5 kB)\n",
            "Requirement already satisfied: contextlib2>=0.5.5 in /usr/local/lib/python3.8/dist-packages (from schema->nni->monai[all]) (0.5.5)\n",
            "Requirement already satisfied: smmap<6,>=3.0.1 in /usr/local/lib/python3.8/dist-packages (from gitdb<5,>=4.0.1->gitpython<4,>=2.1.0->mlflow->monai[all]) (5.0.0)\n",
            "Requirement already satisfied: pyasn1<0.5.0,>=0.4.6 in /usr/local/lib/python3.8/dist-packages (from pyasn1-modules>=0.2.1->google-auth<3,>=1.6.3->tensorboard->monai[all]) (0.4.8)\n",
            "Requirement already satisfied: llvmlite<0.40,>=0.39.0dev0 in /usr/local/lib/python3.8/dist-packages (from numba->shap<1,>=0.40->mlflow->monai[all]) (0.39.1)\n",
            "Installing collected packages: types-toml, tokenizers, json-tricks, websockets, tensorboardX, simplejson, schema, imagecodecs, cucim, colorlog, colorama, cmaes, responses, PythonWebHDFS, huggingface-hub, transformers, optuna, nni\n",
            "Successfully installed PythonWebHDFS-0.2.3 cmaes-0.9.1 colorama-0.4.6 colorlog-6.7.0 cucim-22.12.0 huggingface-hub-0.12.0 imagecodecs-2023.1.23 json-tricks-3.16.1 nni-2.10 optuna-3.1.0 responses-0.22.0 schema-0.7.5 simplejson-3.18.1 tensorboardX-2.5.1 tokenizers-0.12.1 transformers-4.21.3 types-toml-0.10.8.1 websockets-10.4\n"
          ]
        }
      ]
    },
    {
      "cell_type": "code",
      "source": [
        "import os \n",
        "import sys "
      ],
      "metadata": {
        "id": "JEk-uIgLvStC"
      },
      "execution_count": 4,
      "outputs": []
    },
    {
      "cell_type": "code",
      "source": [
        "\n",
        "import tempfile\n",
        "import nibabel as nib\n",
        "import numpy as np\n",
        "import matplotlib.pyplot as plt\n",
        "from typing import Optional, Any, Mapping, Hashable\n",
        "\n",
        "import monai\n",
        "from monai.config import print_config\n",
        "from monai.utils import first\n",
        "from monai.config import KeysCollection\n",
        "from monai.data import Dataset, ArrayDataset, create_test_image_3d, DataLoader\n",
        "# from monai.transforms import (\n",
        "#     Transform,\n",
        "#     MapTransform,\n",
        "#     Randomizable,\n",
        "#     AddChannel,\n",
        "#     AddChanneld,\n",
        "#     Compose,\n",
        "#     LoadImage,\n",
        "#     LoadImaged,\n",
        "#     Lambda,\n",
        "#     Lambdad,\n",
        "#     RandSpatialCrop,\n",
        "#     RandSpatialCropd,\n",
        "#     ToTensor,\n",
        "#     ToTensord,\n",
        "#     Orientation, \n",
        "#     Rotate\n",
        "# )\n",
        "print_config()\n",
        "\n",
        "from monai.bundle import ConfigParser\n",
        "import json \n",
        "\n",
        "import numpy \n",
        "import torch"
      ],
      "metadata": {
        "colab": {
          "base_uri": "https://localhost:8080/"
        },
        "id": "LdYg5zEwSyAl",
        "outputId": "5257a66a-b402-451f-bf08-25bb0ead76ad"
      },
      "execution_count": 5,
      "outputs": [
        {
          "output_type": "stream",
          "name": "stdout",
          "text": [
            "MONAI version: 1.1.0\n",
            "Numpy version: 1.21.6\n",
            "Pytorch version: 1.13.1+cu116\n",
            "MONAI flags: HAS_EXT = False, USE_COMPILED = False, USE_META_DICT = False\n",
            "MONAI rev id: a2ec3752f54bfc3b40e7952234fbeb5452ed63e3\n",
            "MONAI __file__: /usr/local/lib/python3.8/dist-packages/monai/__init__.py\n",
            "\n",
            "Optional dependencies:\n",
            "Pytorch Ignite version: 0.4.10\n",
            "Nibabel version: 3.0.2\n",
            "scikit-image version: 0.18.3\n",
            "Pillow version: 9.4.0\n",
            "Tensorboard version: 2.9.1\n",
            "gdown version: 4.4.0\n",
            "TorchVision version: 0.14.1+cu116\n",
            "tqdm version: 4.64.1\n",
            "lmdb version: 0.99\n",
            "psutil version: 5.4.8\n",
            "pandas version: 1.3.5\n",
            "einops version: 0.6.0\n",
            "transformers version: 4.21.3\n",
            "mlflow version: 2.1.1\n",
            "pynrrd version: 0.4.3\n",
            "\n",
            "For details about installing the optional dependencies, please visit:\n",
            "    https://docs.monai.io/en/latest/installation.html#installing-the-recommended-dependencies\n",
            "\n"
          ]
        }
      ]
    },
    {
      "cell_type": "code",
      "source": [
        "import monailabel\n",
        "\n",
        "if not os.path.isdir('/content/apps'):\n",
        "  os.mkdir('/content/apps')\n",
        "\n",
        "!monailabel --help\n",
        "# !monailabel apps\n",
        "# !monailabel apps --download --name radiology --output apps\n",
        "!monailabel apps --name radiology --download --output '/content/apps'\n",
        "\n",
        "# https://docs.monai.io/projects/label/en/latest/quickstart.html "
      ],
      "metadata": {
        "colab": {
          "base_uri": "https://localhost:8080/"
        },
        "id": "u5oumpesFyfg",
        "outputId": "45a99bc6-cdc1-488e-e4c2-e7c6f8a09bb9"
      },
      "execution_count": 6,
      "outputs": [
        {
          "output_type": "stream",
          "name": "stdout",
          "text": [
            "Using PYTHONPATH=/usr:/env/python\n",
            "\n",
            "usage: monailabel\n",
            "       [-h]\n",
            "       [-v]\n",
            "       {start_server,apps,datasets,plugins}\n",
            "       ...\n",
            "\n",
            "positional arguments:\n",
            "  {start_server,apps,datasets,plugins}\n",
            "    sub-command\n",
            "    help\n",
            "    start_server\n",
            "    Start\n",
            "    Application\n",
            "    Server\n",
            "    apps\n",
            "    list or\n",
            "    download\n",
            "    sample apps\n",
            "    datasets\n",
            "    list or\n",
            "    download\n",
            "    sample\n",
            "    datasets\n",
            "    plugins\n",
            "    list or\n",
            "    download\n",
            "    viewer\n",
            "    plugins\n",
            "\n",
            "optional arguments:\n",
            "  -h, --help\n",
            "    show this\n",
            "    help\n",
            "    message and\n",
            "    exit\n",
            "  -v, --version\n",
            "    print\n",
            "    version\n",
            "Using PYTHONPATH=/usr:/env/python\n",
            "\n",
            "Traceback (most recent call last):\n",
            "  File \"/usr/lib/python3.8/runpy.py\", line 194, in _run_module_as_main\n",
            "    return _run_code(code, main_globals, None,\n",
            "  File \"/usr/lib/python3.8/runpy.py\", line 87, in _run_code\n",
            "    exec(code, run_globals)\n",
            "  File \"/usr/local/lib/python3.8/dist-packages/monailabel/main.py\", line 342, in <module>\n",
            "    Main().run()\n",
            "  File \"/usr/local/lib/python3.8/dist-packages/monailabel/main.py\", line 127, in run\n",
            "    self.action_apps(args)\n",
            "  File \"/usr/local/lib/python3.8/dist-packages/monailabel/main.py\", line 136, in action_apps\n",
            "    self._action_xyz(args, \"sample-apps\", \"App\", None, shutil.ignore_patterns(\"logs\", \"model\", \"__pycache__\"))\n",
            "  File \"/usr/local/lib/python3.8/dist-packages/monailabel/main.py\", line 196, in _action_xyz\n",
            "    xyz = os.listdir(xyz_dir)\n",
            "FileNotFoundError: [Errno 2] No such file or directory: '/root/.local/monailabel/sample-apps'\n"
          ]
        }
      ]
    },
    {
      "cell_type": "code",
      "source": [
        "# Clone the MONAI Label App directory so I can get some fields I need \n",
        "\n",
        "!git clone https://github.com/Project-MONAI/MONAILabel.git"
      ],
      "metadata": {
        "colab": {
          "base_uri": "https://localhost:8080/"
        },
        "id": "XXFR2J_gsXom",
        "outputId": "c5c31546-905f-49b5-d74d-eac85b3f1381"
      },
      "execution_count": 7,
      "outputs": [
        {
          "output_type": "stream",
          "name": "stdout",
          "text": [
            "Cloning into 'MONAILabel'...\n",
            "remote: Enumerating objects: 12311, done.\u001b[K\n",
            "remote: Counting objects: 100% (579/579), done.\u001b[K\n",
            "remote: Compressing objects: 100% (358/358), done.\u001b[K\n",
            "remote: Total 12311 (delta 305), reused 430 (delta 211), pack-reused 11732\u001b[K\n",
            "Receiving objects: 100% (12311/12311), 46.69 MiB | 20.47 MiB/s, done.\n",
            "Resolving deltas: 100% (8437/8437), done.\n"
          ]
        }
      ]
    },
    {
      "cell_type": "markdown",
      "source": [
        "# Parameterization"
      ],
      "metadata": {
        "id": "Qs8dipPqCJWC"
      }
    },
    {
      "cell_type": "code",
      "source": [
        "project_id = 'idc-external-018'\n",
        "location_id = 'us-central1'\n",
        "# monai_bucket = os.path.join('gs://', 'monai','verse','test')\n",
        "monai_bucket = os.path.join('gs://', 'monai', 'spleen', 'test')\n",
        "print(monai_bucket)\n"
      ],
      "metadata": {
        "colab": {
          "base_uri": "https://localhost:8080/"
        },
        "id": "m4ucG8DtCKto",
        "outputId": "45bffc9a-8400-48f7-9204-6d963316bdc6"
      },
      "execution_count": 8,
      "outputs": [
        {
          "output_type": "stream",
          "name": "stdout",
          "text": [
            "gs://monai/spleen/test\n"
          ]
        }
      ]
    },
    {
      "cell_type": "markdown",
      "source": [
        "# Download the spleen bundle to see examples of the json file"
      ],
      "metadata": {
        "id": "u4DJOq2rupck"
      }
    },
    {
      "cell_type": "code",
      "source": [
        "# Download the spleen monai bundle so I can see an example of the json files and directory structure --> get latest? check differences. \n",
        "# !python -m monai.bundle download --name spleen_ct_segmentation --version \"0.1.1\" --bundle_dir \"./\"\n",
        "!python -m monai.bundle download --name spleen_ct_segmentation --version \"0.3.7\" --bundle_dir \"./\""
      ],
      "metadata": {
        "colab": {
          "base_uri": "https://localhost:8080/"
        },
        "id": "20waGzP_pPsw",
        "outputId": "bb7210d9-c587-4d8e-c7c0-fd0764ef54cb"
      },
      "execution_count": 9,
      "outputs": [
        {
          "output_type": "stream",
          "name": "stdout",
          "text": [
            "2023-02-02 10:40:24,737 - INFO - --- input summary of monai.bundle.scripts.download ---\n",
            "2023-02-02 10:40:24,737 - INFO - > name: 'spleen_ct_segmentation'\n",
            "2023-02-02 10:40:24,737 - INFO - > version: '0.3.7'\n",
            "2023-02-02 10:40:24,737 - INFO - > bundle_dir: './'\n",
            "2023-02-02 10:40:24,737 - INFO - > source: 'github'\n",
            "2023-02-02 10:40:24,737 - INFO - > remove_prefix: 'monai_'\n",
            "2023-02-02 10:40:24,737 - INFO - > progress: True\n",
            "2023-02-02 10:40:24,737 - INFO - ---\n",
            "\n",
            "\n",
            "spleen_ct_segmentation_v0.3.7.zip: 33.9MB [00:04, 7.71MB/s]                \n",
            "2023-02-02 10:40:29,356 - INFO - Downloaded: spleen_ct_segmentation_v0.3.7.zip\n",
            "2023-02-02 10:40:29,356 - INFO - Expected md5 is None, skip md5 check for file spleen_ct_segmentation_v0.3.7.zip.\n",
            "2023-02-02 10:40:29,356 - INFO - Writing into directory: ..\n"
          ]
        }
      ]
    },
    {
      "cell_type": "markdown",
      "source": [
        "# Set up directories for full_ct_segmentation"
      ],
      "metadata": {
        "id": "lzfJSYMjpWP5"
      }
    },
    {
      "cell_type": "code",
      "source": [
        "# Setup of directories for full_ct_segmentation \n",
        "\n",
        "main_dir = \"/content/full_ct_segmentation\"\n",
        "config_dir = os.path.join(main_dir, 'configs')\n",
        "model_dir = os.path.join(main_dir, 'models')\n",
        "data_dir = os.path.join(\"/content/data\")\n",
        "data_dir_Ts = os.path.join(data_dir, \"imagesTs\")\n",
        "\n",
        "if not os.path.isdir(main_dir):\n",
        "  os.mkdir(main_dir)\n",
        "if not os.path.isdir(config_dir):\n",
        "  os.mkdir(config_dir)\n",
        "if not os.path.isdir(model_dir):\n",
        "  os.mkdir(model_dir)\n",
        "if not os.path.isdir(data_dir):\n",
        "  os.mkdir(data_dir)\n",
        "if not os.path.isdir(data_dir_Ts):\n",
        "  os.mkdir(data_dir_Ts)"
      ],
      "metadata": {
        "id": "A7uggA7RG82o"
      },
      "execution_count": 10,
      "outputs": []
    },
    {
      "cell_type": "markdown",
      "source": [
        "# Get the model from Andres' google drive folder"
      ],
      "metadata": {
        "id": "iR-MrdByu6wA"
      }
    },
    {
      "cell_type": "code",
      "source": [
        "# https://drive.google.com/drive/folders/12Z2XjrDCGhWGRvJZj82n28W5siLcWC2q?usp=share_link"
      ],
      "metadata": {
        "id": "u8g4vX8Mu_IE"
      },
      "execution_count": 11,
      "outputs": []
    },
    {
      "cell_type": "code",
      "source": [
        "# !wget \"https://drive.google.com/drive/folders/12Z2XjrDCGhWGRvJZj82n28W5siLcWC2q?usp=share_link\" \"/content/andres\"\n",
        "# Get from github for now \n",
        "\n",
        "# model_path_github = \"https://github.com/deepakri201/monai_app_to_bundle/tree/main/pretrained_models/segmentation_full_ct.pt\"\n",
        "model_path_github = \"https://raw.githubusercontent.com/deepakri201/monai_app_to_bundle/main/pretrained_models/segmentation_full_ct.pt\"\n",
        "model_path_download = os.path.join(model_dir, \"model.pt\")\n",
        "!wget -O $model_path_download $model_path_github \n",
        "\n",
        "# !wget $model_path_github \n",
        "# !wget -O $query_download_path https://raw.githubusercontent.com/ImagingDataCommons/ai_medima_misc/main/common/queries/NSCLC_Radiomics_query.txt\n",
        "\n",
        "# !wget $model_path_github \n",
        "# !mv \"/content/radiology_segmentation_segresnet_localization_spine.pt\" $model_path"
      ],
      "metadata": {
        "colab": {
          "base_uri": "https://localhost:8080/"
        },
        "id": "E4G7_XQjvsRO",
        "outputId": "95a13235-0848-4d47-ee27-3a7d9b08ab50"
      },
      "execution_count": 12,
      "outputs": [
        {
          "output_type": "stream",
          "name": "stdout",
          "text": [
            "--2023-02-02 10:40:45--  https://raw.githubusercontent.com/deepakri201/monai_app_to_bundle/main/pretrained_models/segmentation_full_ct.pt\n",
            "Resolving raw.githubusercontent.com (raw.githubusercontent.com)... 185.199.108.133, 185.199.109.133, 185.199.110.133, ...\n",
            "Connecting to raw.githubusercontent.com (raw.githubusercontent.com)|185.199.108.133|:443... connected.\n",
            "HTTP request sent, awaiting response... 200 OK\n",
            "Length: 75224450 (72M) [application/octet-stream]\n",
            "Saving to: ‘/content/full_ct_segmentation/models/model.pt’\n",
            "\n",
            "/content/full_ct_se 100%[===================>]  71.74M   123MB/s    in 0.6s    \n",
            "\n",
            "2023-02-02 10:40:51 (123 MB/s) - ‘/content/full_ct_segmentation/models/model.pt’ saved [75224450/75224450]\n",
            "\n"
          ]
        }
      ]
    },
    {
      "cell_type": "markdown",
      "source": [
        "# Copy the logging conf file from the spleen bundle for now "
      ],
      "metadata": {
        "id": "jrpyo3sjvLs1"
      }
    },
    {
      "cell_type": "code",
      "source": [
        "# Copy the logging.conf file for now \n",
        "!cp \"/content/spleen_ct_segmentation/configs/logging.conf\" \"/content/full_ct_segmentation/configs/logging.conf\"\n"
      ],
      "metadata": {
        "id": "me6q5gs4xkT2"
      },
      "execution_count": 13,
      "outputs": []
    },
    {
      "cell_type": "markdown",
      "source": [
        "# Download the spleen data for inference - data already in bucket"
      ],
      "metadata": {
        "id": "0RofNTLg_YJQ"
      }
    },
    {
      "cell_type": "code",
      "source": [
        "# Instead download from a bucket for now \n",
        "\n",
        "!gsutil -m cp -r $monai_bucket/*.nii.gz $data_dir_Ts\n"
      ],
      "metadata": {
        "colab": {
          "base_uri": "https://localhost:8080/"
        },
        "id": "XN3-rUZ1_cvB",
        "outputId": "248a1a40-e857-493f-fb70-a5eff4a7ec69"
      },
      "execution_count": 14,
      "outputs": [
        {
          "output_type": "stream",
          "name": "stdout",
          "text": [
            "Copying gs://monai/spleen/test/spleen_3.nii.gz...\n",
            "| [1/1 files][ 10.8 MiB/ 10.8 MiB] 100% Done                                    \n",
            "Operation completed over 1 objects/10.8 MiB.                                     \n"
          ]
        }
      ]
    },
    {
      "cell_type": "markdown",
      "source": [
        "# Create the metajson file"
      ],
      "metadata": {
        "id": "77UV490HumDW"
      }
    },
    {
      "cell_type": "code",
      "source": [
        "\n",
        "metajson_dict = {\n",
        "    \"schema\": \"https://github.com/Project-MONAI/MONAI-extra-test-data/releases/download/0.8.1/meta_schema_20220324.json\",\n",
        "    # \"version\": \"0.1.1\",\n",
        "    # \"changelog\": {\n",
        "    #     \"0.1.1\": \"disable image saving during evaluation\",\n",
        "    #     \"0.1.0\": \"complete the model package\",\n",
        "    #     \"0.0.1\": \"initialize the model package structure\"\n",
        "    # },\n",
        "    \"monai_version\": \"0.9.0\",\n",
        "    \"pytorch_version\": \"1.10.0\",\n",
        "    \"numpy_version\": \"1.21.2\",\n",
        "    # \"optional_packages_version\": {\n",
        "    #     \"nibabel\": \"3.2.1\",\n",
        "    #     \"pytorch-ignite\": \"0.4.8\"\n",
        "    # },\n",
        "    \"task\": \"Decathlon spleen segmentation\",\n",
        "    \"description\": \"A pre-trained model for volumetric (3D) segmentation of the spleen from CT image\",\n",
        "    \"authors\": \"Deepa Krishnaswamy adapted from Andres Diaz-Pinto full ct segmentation label app code\",\n",
        "    \"copyright\": \"Copyright (c) MONAI Consortium\",\n",
        "    \"data_source\": \"TotalSegmentator data\",\n",
        "    \"data_type\": \"nibabel\",\n",
        "    \"image_classes\": \"single channel data, intensity scaled to [0, 1]\",\n",
        "    \"label_classes\": \"25 channel data, 1-24 vertebrae and 0 is everything else\",\n",
        "    \"pred_classes\": \"25 channels OneHot data, channel 1-24 vertebra, channel 0 is background\",\n",
        "    \"eval_metrics\": {\n",
        "        \"mean_dice\": 0.96\n",
        "    },\n",
        "    \"intended_use\": \"This is an example, not to be used for diagnostic purposes\",\n",
        "    # \"references\": [\n",
        "    #     \"Xia, Yingda, et al. '3D Semi-Supervised Learning with Uncertainty-Aware Multi-View Co-Training. arXiv preprint arXiv:1811.12506 (2018). https://arxiv.org/abs/1811.12506.\",\n",
        "    #     \"Kerfoot E., Clough J., Oksuz I., Lee J., King A.P., Schnabel J.A. (2019) Left-Ventricle Quantification Using Residual U-Net. In: Pop M. et al. (eds) Statistical Atlases and Computational Models of the Heart. Atrial Segmentation and LV Quantification Challenges. STACOM 2018. Lecture Notes in Computer Science, vol 11395. Springer, Cham. https://doi.org/10.1007/978-3-030-12029-0_40\"\n",
        "    # ],\n",
        "    \"network_data_format\": {\n",
        "        \"inputs\": {\n",
        "            \"image\": {\n",
        "                \"type\": \"image\",\n",
        "                \"format\": \"hounsfield\",\n",
        "                \"modality\": \"CT\",\n",
        "                \"num_channels\": 1, # check this\n",
        "                \"spatial_shape\": [\n",
        "                    96,\n",
        "                    96,\n",
        "                    96\n",
        "                ],\n",
        "                \"dtype\": \"float32\",\n",
        "                \"value_range\": [\n",
        "                    0,\n",
        "                    1\n",
        "                ],\n",
        "                \"is_patch_data\": True,\n",
        "                \"channel_def\": {\n",
        "                    \"0\": \"image\"\n",
        "                }\n",
        "            }\n",
        "        },\n",
        "        \"outputs\": {\n",
        "            \"pred\": {\n",
        "                \"type\": \"image\",\n",
        "                \"format\": \"segmentation\",\n",
        "                \"num_channels\": 104, # can get this automatically - check if 104 to 105 including background\n",
        "                # \"num_channels\": 2, \n",
        "                \"spatial_shape\": [\n",
        "                    96,\n",
        "                    96,\n",
        "                    96\n",
        "                ],\n",
        "                \"dtype\": \"float32\",\n",
        "                \"value_range\": [\n",
        "                    0,\n",
        "                    1\n",
        "                ],\n",
        "                \"is_patch_data\": True,\n",
        "                # \"channel_def\": { # WHY 25. should be 1 for the first spine localization step? \n",
        "                #     \"0\": \"background\",\n",
        "                #     \"1\": \"spine\"\n",
        "                # }\n",
        "                \"channel_def\": {\n",
        "                \"spleen\": 1,\n",
        "                \"kidney_right\": 2,\n",
        "                \"kidney_left\": 3,\n",
        "                \"gallbladder\": 4,\n",
        "                \"liver\": 5,\n",
        "                \"stomach\": 6,\n",
        "                \"aorta\": 7,\n",
        "                \"inferior_vena_cava\": 8,\n",
        "                \"portal_vein_and_splenic_vein\": 9,\n",
        "                \"pancreas\": 10,\n",
        "                \"adrenal_gland_right\": 11,\n",
        "                \"adrenal_gland_left\": 12,\n",
        "                \"lung_upper_lobe_left\": 13,\n",
        "                \"lung_lower_lobe_left\": 14,\n",
        "                \"lung_upper_lobe_right\": 15,\n",
        "                \"lung_middle_lobe_right\": 16,\n",
        "                \"lung_lower_lobe_right\": 17,\n",
        "                \"vertebrae_L5\": 18,\n",
        "                \"vertebrae_L4\": 19,\n",
        "                \"vertebrae_L3\": 20,\n",
        "                \"vertebrae_L2\": 21,\n",
        "                \"vertebrae_L1\": 22,\n",
        "                \"vertebrae_T12\": 23,\n",
        "                \"vertebrae_T11\": 24,\n",
        "                \"vertebrae_T10\": 25,\n",
        "                \"vertebrae_T9\": 26,\n",
        "                \"vertebrae_T8\": 27,\n",
        "                \"vertebrae_T7\": 28,\n",
        "                \"vertebrae_T6\": 29,\n",
        "                \"vertebrae_T5\": 30,\n",
        "                \"vertebrae_T4\": 31,\n",
        "                \"vertebrae_T3\": 32,\n",
        "                \"vertebrae_T2\": 33,\n",
        "                \"vertebrae_T1\": 34,\n",
        "                \"vertebrae_C7\": 35,\n",
        "                \"vertebrae_C6\": 36,\n",
        "                \"vertebrae_C5\": 37,\n",
        "                \"vertebrae_C4\": 38,\n",
        "                \"vertebrae_C3\": 39,\n",
        "                \"vertebrae_C2\": 40,\n",
        "                \"vertebrae_C1\": 41,\n",
        "                \"esophagus\": 42,\n",
        "                \"trachea\": 43,\n",
        "                \"heart_myocardium\": 44,\n",
        "                \"heart_atrium_left\": 45,\n",
        "                \"heart_ventricle_left\": 46,\n",
        "                \"heart_atrium_right\": 47,\n",
        "                \"heart_ventricle_right\": 48,\n",
        "                \"pulmonary_artery\": 49,\n",
        "                \"brain\": 50,\n",
        "                \"iliac_artery_left\": 51,\n",
        "                \"iliac_artery_right\": 52,\n",
        "                \"iliac_vena_left\": 53,\n",
        "                \"iliac_vena_right\": 54,\n",
        "                \"small_bowel\": 55,\n",
        "                \"duodenum\": 56,\n",
        "                \"colon\": 57,\n",
        "                \"rib_left_1\": 58,\n",
        "                \"rib_left_2\": 59,\n",
        "                \"rib_left_3\": 60,\n",
        "                \"rib_left_4\": 61,\n",
        "                \"rib_left_5\": 62,\n",
        "                \"rib_left_6\": 63,\n",
        "                \"rib_left_7\": 64,\n",
        "                \"rib_left_8\": 65,\n",
        "                \"rib_left_9\": 66,\n",
        "                \"rib_left_10\": 67,\n",
        "                \"rib_left_11\": 68,\n",
        "                \"rib_left_12\": 69,\n",
        "                \"rib_right_1\": 70,\n",
        "                \"rib_right_2\": 71,\n",
        "                \"rib_right_3\": 72,\n",
        "                \"rib_right_4\": 73,\n",
        "                \"rib_right_5\": 74,\n",
        "                \"rib_right_6\": 75,\n",
        "                \"rib_right_7\": 76,\n",
        "                \"rib_right_8\": 77,\n",
        "                \"rib_right_9\": 78,\n",
        "                \"rib_right_10\": 79,\n",
        "                \"rib_right_11\": 80,\n",
        "                \"rib_right_12\": 81,\n",
        "                \"humerus_left\": 82,\n",
        "                \"humerus_right\": 83,\n",
        "                \"scapula_left\": 84,\n",
        "                \"scapula_right\": 85,\n",
        "                \"clavicula_left\": 86,\n",
        "                \"clavicula_right\": 87,\n",
        "                \"femur_left\": 88,\n",
        "                \"femur_right\": 89,\n",
        "                \"hip_left\": 90,\n",
        "                \"hip_right\": 91,\n",
        "                \"sacrum\": 92,\n",
        "                \"face\": 93,\n",
        "                \"gluteus_maximus_left\": 94,\n",
        "                \"gluteus_maximus_right\": 95,\n",
        "                \"gluteus_medius_left\": 96,\n",
        "                \"gluteus_medius_right\": 97,\n",
        "                \"gluteus_minimus_left\": 98,\n",
        "                \"gluteus_minimus_right\": 99,\n",
        "                \"autochthon_left\": 100,\n",
        "                \"autochthon_right\": 101,\n",
        "                \"iliopsoas_left\": 102,\n",
        "                \"iliopsoas_right\": 103,\n",
        "                \"urinary_bladder\": 104,\n",
        "        }\n",
        "            }\n",
        "        }\n",
        "    }\n",
        "}"
      ],
      "metadata": {
        "id": "16uQZ77-vySl"
      },
      "execution_count": 20,
      "outputs": []
    },
    {
      "cell_type": "code",
      "source": [
        "monai_version = monai.__version__\n",
        "pytorch_version = torch.__version__\n",
        "numpy_version = numpy.__version__"
      ],
      "metadata": {
        "id": "qy6BXy3OvdA8"
      },
      "execution_count": 18,
      "outputs": []
    },
    {
      "cell_type": "code",
      "source": [
        "config = ConfigParser()\n",
        "metajson_filename = os.path.join(config_dir, 'metadata.json')\n",
        "# config.export_config_file(metajson_dict, metajson_filename, fmt=\"json\")\n",
        "\n",
        "metajson_dict[\"monai_version\"] = monai_version \n",
        "metajson_dict[\"pytorch_version\"] = pytorch_version\n",
        "metajson_dict[\"numpy_version\"] = numpy_version\n",
        "\n",
        "with open(metajson_filename, \"w\") as outfile: \n",
        "  json.dump(metajson_dict, outfile, indent=4)\n",
        "outfile.close()"
      ],
      "metadata": {
        "id": "yuVH9BPPv2-1"
      },
      "execution_count": 21,
      "outputs": []
    },
    {
      "cell_type": "markdown",
      "source": [
        "# Create the inference json file"
      ],
      "metadata": {
        "id": "smx4PPS2unac"
      }
    },
    {
      "cell_type": "code",
      "source": [
        "\n",
        "inference_dict = {\n",
        "    \"imports\": [\n",
        "        \"$import glob\",\n",
        "        \"$import os\",\n",
        "        \"$import sys\",\n",
        "        # \"$from monailabel.transform.post import Restored\"\n",
        "    ],\n",
        "    \"bundle_root\": \"\", \n",
        "    \"output_dir\": \"$@bundle_root + '/eval'\",\n",
        "    \"dataset_dir\": \"\",\n",
        "    \"datalist\": \"$list(sorted(glob.glob(@dataset_dir + '/imagesTs/*.nii.gz')))\",\n",
        "    \"device\": \"$torch.device('cuda:0' if torch.cuda.is_available() else 'cpu')\",\n",
        "    # \"device\":\"$torch.device('cpu')\",\n",
        "    ### I modified the network_def below ### \n",
        "    \"network_def\": { # https://github.com/Project-MONAI/MONAILabel/blob/main/sample-apps/radiology/lib/configs/localization_spine.py\n",
        "        \"_target_\": \"SegResNet\",\n",
        "        \"spatial_dims\": 3,\n",
        "        \"init_filters\": 32,\n",
        "        \"in_channels\": 1,\n",
        "        \"out_channels\": 105,  # can get this automatically later \n",
        "        # \"out_channels\": 2,\n",
        "        \"dropout_prob\": 0.2,\n",
        "        \"blocks_down\": (1, 2, 2, 4),\n",
        "        \"blocks_up\": (1, 1, 1)\n",
        "    },\n",
        "\n",
        "\n",
        "    \"network\": \"$@network_def.to(@device)\",\n",
        "    ### I modified the preprocessing below ### # pre_transforms from https://github.com/Project-MONAI/MONAILabel/blob/main/sample-apps/radiology/lib/infers/localization_spine.py \n",
        "    \"preprocessing\": {\n",
        "        \"_target_\": \"Compose\",\n",
        "        \"transforms\": [\n",
        "            {\n",
        "                \"_target_\": \"LoadImaged\", # LoadImaged(keys=\"image\"),\n",
        "                \"keys\": \"image\"\n",
        "            },\n",
        "            {\n",
        "                \"_target_\": \"EnsureTyped\", # EnsureTyped(keys=\"image\", device=data.get(\"device\") if data else None),\n",
        "                \"keys\": \"image\"\n",
        "            },\n",
        "            {\n",
        "                \"_target_\": \"EnsureChannelFirstd\", #  EnsureChannelFirstd(keys=\"image\"),\n",
        "                \"keys\": \"image\"\n",
        "            },\n",
        "            # {\n",
        "            #     \"_target_\": \"Orientationd\", # Orientationd(keys=\"image\", axcodes=\"RAS\"),\n",
        "            #     \"keys\": \"image\",\n",
        "            #     \"axcodes\": \"RAS\"\n",
        "            # },\n",
        "            {\n",
        "                \"_target_\": \"Spacingd\", # Spacingd(keys=\"image\", pixdim=self.target_spacing, allow_missing_keys=True),\n",
        "                \"keys\": \"image\",\n",
        "                \"pixdim\": [\n",
        "                    1.5,\n",
        "                    1.5,\n",
        "                    1.5\n",
        "                ],\n",
        "                \"mode\": \"bilinear\"\n",
        "            },\n",
        "            {\n",
        "                \"_target_\": \"NormalizeIntensityd\", # NormalizeIntensityd(keys=\"image\", nonzero=True),\n",
        "                \"keys\": \"image\"\n",
        "            },\n",
        "            # ScaleIntensityRanged(keys=\"image\", a_min=-1000, a_max=1900, b_min=0.0, b_max=1.0, clip=True),\n",
        "            {\n",
        "                \"_target_\": \"GaussianSmoothd\", # GaussianSmoothd(keys=\"image\", sigma=0.4),\n",
        "                \"keys\": \"image\",\n",
        "                \"sigma\": 0.4 \n",
        "            },\n",
        "            {\n",
        "                \"_target_\": \"ScaleIntensityd\", # ScaleIntensityd(keys=\"image\", minv=-1.0, maxv=1.0),\n",
        "                \"keys\": \"image\",\n",
        "                \"minv\": -1.0, \n",
        "                \"maxv\": 1.0\n",
        "            }, \n",
        "        ]\n",
        "\n",
        "},\n",
        "    \"dataset\": {\n",
        "        \"_target_\": \"Dataset\",\n",
        "        \"data\": \"$[{'image': i} for i in @datalist]\",\n",
        "        \"transform\": \"@preprocessing\"\n",
        "    },\n",
        "    ### Will need to find the batch_size and num_workers ### \n",
        "    \"dataloader\": {\n",
        "        \"_target_\": \"DataLoader\",\n",
        "        \"dataset\": \"@dataset\",\n",
        "        \"batch_size\": 1,  # CHECK THIS!\n",
        "        \"shuffle\": False,\n",
        "        \"num_workers\": 4   # CHECK THIS!\n",
        "    },\n",
        "    ### I modified the inferer below ### inferer from https://github.com/Project-MONAI/MONAILabel/blob/main/sample-apps/radiology/lib/infers/localization_spine.py \n",
        "    \"inferer\": {\n",
        "        \"_target_\": \"SlidingWindowInferer\", # SlidingWindowInferer(roi_size=self.roi_size, sw_batch_size=2, overlap=0.4, padding_mode=\"replicate\", mode=\"gaussian\")\n",
        "        \"roi_size\": [ # roi_size from here # https://github.com/Project-MONAI/MONAILabel/blob/main/sample-apps/radiology/lib/configs/localization_spine.py\n",
        "            96,\n",
        "            96,\n",
        "            96\n",
        "        ],\n",
        "        \"sw_batch_size\": 2,\n",
        "        \"overlap\": 0.4,\n",
        "        \"padding_mode\": \"replicate\", \n",
        "        \"mode\": \"gaussian\"\n",
        "    },\n",
        "    ### Need to modify the below ### post_transforms from https://github.com/Project-MONAI/MONAILabel/blob/main/sample-apps/radiology/lib/infers/localization_spine.py \n",
        "    \"postprocessing\": {\n",
        "        \"_target_\": \"Compose\",\n",
        "        \"transforms\": [\n",
        "           {\n",
        "                \"_target_\": \"EnsureTyped\", # EnsureTyped(keys=\"pred\", device=torch.device(\"cpu\")), # Use this in case of using GPU smaller than 24GB\n",
        "                \"keys\": \"image\",\n",
        "                # \"device\": \"$torch.device('cpu')\",\n",
        "                # \"device\": \"$torch.device('cuda:0' if torch.cuda.is_available() else 'cpu')\"\n",
        "            },\n",
        "           {\n",
        "                \"_target_\": \"Activationsd\", # Activationsd(keys=\"pred\", softmax=True), # https://github.com/Project-MONAI/MONAI/blob/dev/monai/transforms/post/dictionary.py - do I need to specify the other keys? keep defaults.\n",
        "                \"keys\": \"pred\",\n",
        "                \"softmax\": True\n",
        "            },          \n",
        "           {\n",
        "                \"_target_\": \"AsDiscreted\", # AsDiscreted(keys=\"pred\", argmax=True), # https://github.com/Project-MONAI/MONAI/blob/dev/monai/transforms/post/dictionary.py - do I need to specify the other keys? keep defaults.\n",
        "                \"keys\": \"pred\",\n",
        "                \"argmax\": True\n",
        "            },\n",
        "            # {\n",
        "            #     \"_target_\": \"Invertd\",\n",
        "            #     \"keys\": \"pred\",\n",
        "            #     \"transform\": \"@preprocessing\",\n",
        "            #     \"orig_keys\": \"image\",\n",
        "            #     \"meta_key_postfix\": \"meta_dict\",\n",
        "            #     \"nearest_interp\": False,\n",
        "            #     \"to_tensor\": True\n",
        "            # },\n",
        "            {\n",
        "                \"_target_\": \"KeepLargestConnectedComponentd\", # KeepLargestConnectedComponentd(keys=\"pred\"), # https://github.com/Project-MONAI/MONAI/blob/dev/monai/transforms/post/dictionary.py  - do I need to specify the other keys? keep defaults.\n",
        "                \"keys\": \"pred\"\n",
        "            },\n",
        "            ### Restored is from monailabel - from monailabel.transform.post import Restored ### \n",
        "            # {\n",
        "            #     \"_target_\": \"Restored\", # Restored(keys=\"pred\", ref_image=\"image\"), # https://github.com/Project-MONAI/MONAILabel/blob/main/monailabel/transform/post.py # keep defaults \n",
        "            #     \"keys\": \"pred\",\n",
        "            #     \"ref_image\": \"image\"\n",
        "            # },\n",
        "\n",
        "            # {\n",
        "            #     \"_target_\": \"EnsureChannelFirstd\", # EnsureChannelFirstd(keys=\"pred\"), # https://github.com/Project-MONAI/MONAI/blob/dev/monai/transforms/post/dictionary.py  - do I need to specify the other keys? keep defaults.\n",
        "            #     \"keys\": \"pred\"\n",
        "            # },\n",
        "            \n",
        "            ### RestoreOrientationd is from from lib.transforms.transforms import RestoreOrientationd  ### \n",
        "            # RestoreOrientationd(keys=\"pred\", ref_image=\"image\"),\n",
        "            # Do we need the above?? \n",
        "            ### I added SaveImaged below ### \n",
        "            {\n",
        "                \"_target_\": \"SaveImaged\",\n",
        "                \"keys\": \"pred\",\n",
        "                # \"meta_keys\": \"pred_meta_dict\",\n",
        "                \"output_dir\": \"@output_dir\"\n",
        "            }\n",
        "        ]\n",
        "    },\n",
        "    \"handlers\": [\n",
        "        {\n",
        "            \"_target_\": \"CheckpointLoader\",\n",
        "            \"load_path\": \"$@bundle_root + '/models/model.pt'\",\n",
        "            \"load_dict\": {\n",
        "                \"model\": \"@network\"\n",
        "            }\n",
        "        },\n",
        "        {\n",
        "            \"_target_\": \"StatsHandler\",\n",
        "            \"iteration_log\": False\n",
        "        }\n",
        "    ],\n",
        "    \"evaluator\": {\n",
        "        \"_target_\": \"SupervisedEvaluator\",\n",
        "        \"device\": \"@device\",\n",
        "        \"val_data_loader\": \"@dataloader\",\n",
        "        \"network\": \"@network\",\n",
        "        \"inferer\": \"@inferer\",\n",
        "        \"postprocessing\": \"@postprocessing\",\n",
        "        \"val_handlers\": \"@handlers\",\n",
        "        \"amp\": True\n",
        "    },\n",
        "    \"evaluating\": [\n",
        "        \"$setattr(torch.backends.cudnn, 'benchmark', True)\",\n",
        "        \"$@evaluator.run()\"\n",
        "    ]\n",
        "}"
      ],
      "metadata": {
        "id": "PqMVwAhSv6JU"
      },
      "execution_count": 22,
      "outputs": []
    },
    {
      "cell_type": "code",
      "source": [
        "inference_filename = os.path.join(config_dir, 'inference.json')\n",
        "inference_dict[\"bundle_root\"] = main_dir \n",
        "inference_dict[\"dataset_dir\"] = data_dir \n",
        "config = ConfigParser()\n",
        "# config.export_config_file(inference_dict, inference_filename, fmt=\"json\")\n",
        "\n",
        "with open(inference_filename, \"w\") as outfile: \n",
        "  json.dump(inference_dict, outfile, indent=4)\n",
        "outfile.close()"
      ],
      "metadata": {
        "id": "FqzSnd1rv7iE"
      },
      "execution_count": 23,
      "outputs": []
    },
    {
      "cell_type": "markdown",
      "source": [
        "# Create zip file and download"
      ],
      "metadata": {
        "id": "yI-k-zQZwKjS"
      }
    },
    {
      "cell_type": "code",
      "source": [
        "!zip -r /content/full_ct_segmentation.zip /content/full_ct_segmentation\n"
      ],
      "metadata": {
        "colab": {
          "base_uri": "https://localhost:8080/"
        },
        "id": "Mx7_DWFCwMcU",
        "outputId": "1751863d-3af1-49d4-b157-99bccdc6aafe"
      },
      "execution_count": 24,
      "outputs": [
        {
          "output_type": "stream",
          "name": "stdout",
          "text": [
            "  adding: content/full_ct_segmentation/ (stored 0%)\n",
            "  adding: content/full_ct_segmentation/configs/ (stored 0%)\n",
            "  adding: content/full_ct_segmentation/configs/logging.conf (deflated 51%)\n",
            "  adding: content/full_ct_segmentation/configs/inference.json (deflated 74%)\n",
            "  adding: content/full_ct_segmentation/configs/metadata.json (deflated 76%)\n",
            "  adding: content/full_ct_segmentation/models/ (stored 0%)\n",
            "  adding: content/full_ct_segmentation/models/model.pt (deflated 7%)\n"
          ]
        }
      ]
    },
    {
      "cell_type": "code",
      "source": [
        "from google.colab import files\n",
        "files.download(\"/content/full_ct_segmentation.zip\")"
      ],
      "metadata": {
        "colab": {
          "base_uri": "https://localhost:8080/",
          "height": 34
        },
        "id": "OejbTG0hwXXz",
        "outputId": "64ab2857-f7e1-420d-9c40-b1ef45c133d3"
      },
      "execution_count": 25,
      "outputs": [
        {
          "output_type": "display_data",
          "data": {
            "text/plain": [
              "<IPython.core.display.Javascript object>"
            ],
            "application/javascript": [
              "\n",
              "    async function download(id, filename, size) {\n",
              "      if (!google.colab.kernel.accessAllowed) {\n",
              "        return;\n",
              "      }\n",
              "      const div = document.createElement('div');\n",
              "      const label = document.createElement('label');\n",
              "      label.textContent = `Downloading \"${filename}\": `;\n",
              "      div.appendChild(label);\n",
              "      const progress = document.createElement('progress');\n",
              "      progress.max = size;\n",
              "      div.appendChild(progress);\n",
              "      document.body.appendChild(div);\n",
              "\n",
              "      const buffers = [];\n",
              "      let downloaded = 0;\n",
              "\n",
              "      const channel = await google.colab.kernel.comms.open(id);\n",
              "      // Send a message to notify the kernel that we're ready.\n",
              "      channel.send({})\n",
              "\n",
              "      for await (const message of channel.messages) {\n",
              "        // Send a message to notify the kernel that we're ready.\n",
              "        channel.send({})\n",
              "        if (message.buffers) {\n",
              "          for (const buffer of message.buffers) {\n",
              "            buffers.push(buffer);\n",
              "            downloaded += buffer.byteLength;\n",
              "            progress.value = downloaded;\n",
              "          }\n",
              "        }\n",
              "      }\n",
              "      const blob = new Blob(buffers, {type: 'application/binary'});\n",
              "      const a = document.createElement('a');\n",
              "      a.href = window.URL.createObjectURL(blob);\n",
              "      a.download = filename;\n",
              "      div.appendChild(a);\n",
              "      a.click();\n",
              "      div.remove();\n",
              "    }\n",
              "  "
            ]
          },
          "metadata": {}
        },
        {
          "output_type": "display_data",
          "data": {
            "text/plain": [
              "<IPython.core.display.Javascript object>"
            ],
            "application/javascript": [
              "download(\"download_c8083ea4-a8d6-462a-bb72-642c399d1f3e\", \"full_ct_segmentation.zip\", 69742367)"
            ]
          },
          "metadata": {}
        }
      ]
    },
    {
      "cell_type": "markdown",
      "source": [
        "# Run inference (as a check)"
      ],
      "metadata": {
        "id": "NtKF-Fb7v79L"
      }
    },
    {
      "cell_type": "code",
      "source": [
        "!python -m monai.bundle run evaluating \\\n",
        "    --meta_file /content/full_ct_segmentation/configs/metadata.json \\\n",
        "    --config_file /content/full_ct_segmentation/configs/inference.json \\\n",
        "    --logging_file /content/full_ct_segmentation/configs/logging.conf"
      ],
      "metadata": {
        "colab": {
          "base_uri": "https://localhost:8080/"
        },
        "id": "YrgDVcOyy_U3",
        "outputId": "cec7da16-12bc-496c-925a-fa5258130711"
      },
      "execution_count": 28,
      "outputs": [
        {
          "output_type": "stream",
          "name": "stdout",
          "text": [
            "2023-02-01 11:04:57,402 - INFO - --- input summary of monai.bundle.scripts.run ---\n",
            "2023-02-01 11:04:57,402 - INFO - > runner_id: 'evaluating'\n",
            "2023-02-01 11:04:57,402 - INFO - > meta_file: '/content/full_ct_segmentation/configs/metadata.json'\n",
            "2023-02-01 11:04:57,402 - INFO - > config_file: '/content/full_ct_segmentation/configs/inference.json'\n",
            "2023-02-01 11:04:57,402 - INFO - > logging_file: '/content/full_ct_segmentation/configs/logging.conf'\n",
            "2023-02-01 11:04:57,403 - INFO - ---\n",
            "\n",
            "\n",
            "2023-02-01 11:04:57,403 - INFO - set logging properties based on config: /content/full_ct_segmentation/configs/logging.conf.\n",
            "2023-02-01 11:04:59,869 - ignite.engine.engine.SupervisedEvaluator - INFO - Engine run resuming from iteration 0, epoch 0 until 1 epochs\n",
            "2023-02-01 11:04:59,916 - ignite.engine.engine.SupervisedEvaluator - INFO - Restored all variables from /content/full_ct_segmentation/models/model.pt\n",
            "2023-02-01 11:05:08,721 INFO image_writer.py:194 - writing: /content/full_ct_segmentation/eval/spleen_3/spleen_3_trans.nii.gz\n",
            "2023-02-01 11:05:08,995 - ignite.engine.engine.SupervisedEvaluator - INFO - Epoch[1] Complete. Time taken: 00:00:08.984\n",
            "2023-02-01 11:05:08,995 - ignite.engine.engine.SupervisedEvaluator - INFO - Engine run complete. Time taken: 00:00:09.126\n",
            "[null, null]\n"
          ]
        }
      ]
    },
    {
      "cell_type": "code",
      "source": [],
      "metadata": {
        "id": "b0377sjg1pP5"
      },
      "execution_count": null,
      "outputs": []
    }
  ]
}